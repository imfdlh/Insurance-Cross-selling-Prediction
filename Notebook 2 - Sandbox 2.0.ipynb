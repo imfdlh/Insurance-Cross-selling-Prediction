{
 "cells": [
  {
   "cell_type": "markdown",
   "metadata": {
    "toc": true
   },
   "source": [
    "<h1>Table of Contents<span class=\"tocSkip\"></span></h1>\n",
    "<div class=\"toc\"><ul class=\"toc-item\"><li><span><a href=\"#Load-Data\" data-toc-modified-id=\"Load-Data-1\"><span class=\"toc-item-num\">1&nbsp;&nbsp;</span>Load Data</a></span></li><li><span><a href=\"#Train-Test-Split\" data-toc-modified-id=\"Train-Test-Split-2\"><span class=\"toc-item-num\">2&nbsp;&nbsp;</span>Train Test Split</a></span></li><li><span><a href=\"#Standardization-Scaling\" data-toc-modified-id=\"Standardization-Scaling-3\"><span class=\"toc-item-num\">3&nbsp;&nbsp;</span>Standardization Scaling</a></span><ul class=\"toc-item\"><li><ul class=\"toc-item\"><li><span><a href=\"#Dataset-Train\" data-toc-modified-id=\"Dataset-Train-3.0.1\"><span class=\"toc-item-num\">3.0.1&nbsp;&nbsp;</span>Dataset Train</a></span></li><li><span><a href=\"#Dataset-Test\" data-toc-modified-id=\"Dataset-Test-3.0.2\"><span class=\"toc-item-num\">3.0.2&nbsp;&nbsp;</span>Dataset Test</a></span></li></ul></li></ul></li><li><span><a href=\"#Stage-3\" data-toc-modified-id=\"Stage-3-4\"><span class=\"toc-item-num\">4&nbsp;&nbsp;</span>Stage 3</a></span><ul class=\"toc-item\"><li><span><a href=\"#Random-Forest\" data-toc-modified-id=\"Random-Forest-4.1\"><span class=\"toc-item-num\">4.1&nbsp;&nbsp;</span>Random Forest</a></span><ul class=\"toc-item\"><li><span><a href=\"#Fit-Training-Data\" data-toc-modified-id=\"Fit-Training-Data-4.1.1\"><span class=\"toc-item-num\">4.1.1&nbsp;&nbsp;</span>Fit Training Data</a></span></li><li><span><a href=\"#Predict-Testing-Data\" data-toc-modified-id=\"Predict-Testing-Data-4.1.2\"><span class=\"toc-item-num\">4.1.2&nbsp;&nbsp;</span>Predict Testing Data</a></span></li><li><span><a href=\"#Model-Evaluation\" data-toc-modified-id=\"Model-Evaluation-4.1.3\"><span class=\"toc-item-num\">4.1.3&nbsp;&nbsp;</span>Model Evaluation</a></span><ul class=\"toc-item\"><li><span><a href=\"#Test\" data-toc-modified-id=\"Test-4.1.3.1\"><span class=\"toc-item-num\">4.1.3.1&nbsp;&nbsp;</span>Test</a></span></li><li><span><a href=\"#Train\" data-toc-modified-id=\"Train-4.1.3.2\"><span class=\"toc-item-num\">4.1.3.2&nbsp;&nbsp;</span>Train</a></span></li></ul></li><li><span><a href=\"#Feature-Importance\" data-toc-modified-id=\"Feature-Importance-4.1.4\"><span class=\"toc-item-num\">4.1.4&nbsp;&nbsp;</span>Feature Importance</a></span></li></ul></li><li><span><a href=\"#Decision-Tree\" data-toc-modified-id=\"Decision-Tree-4.2\"><span class=\"toc-item-num\">4.2&nbsp;&nbsp;</span>Decision Tree</a></span><ul class=\"toc-item\"><li><span><a href=\"#Fit-Training-Data\" data-toc-modified-id=\"Fit-Training-Data-4.2.1\"><span class=\"toc-item-num\">4.2.1&nbsp;&nbsp;</span>Fit Training Data</a></span></li><li><span><a href=\"#Predict-Testing-Data\" data-toc-modified-id=\"Predict-Testing-Data-4.2.2\"><span class=\"toc-item-num\">4.2.2&nbsp;&nbsp;</span>Predict Testing Data</a></span></li><li><span><a href=\"#Model-Evaluation\" data-toc-modified-id=\"Model-Evaluation-4.2.3\"><span class=\"toc-item-num\">4.2.3&nbsp;&nbsp;</span>Model Evaluation</a></span><ul class=\"toc-item\"><li><span><a href=\"#Test\" data-toc-modified-id=\"Test-4.2.3.1\"><span class=\"toc-item-num\">4.2.3.1&nbsp;&nbsp;</span>Test</a></span></li><li><span><a href=\"#Train\" data-toc-modified-id=\"Train-4.2.3.2\"><span class=\"toc-item-num\">4.2.3.2&nbsp;&nbsp;</span>Train</a></span></li></ul></li><li><span><a href=\"#Feature-Importance\" data-toc-modified-id=\"Feature-Importance-4.2.4\"><span class=\"toc-item-num\">4.2.4&nbsp;&nbsp;</span>Feature Importance</a></span></li></ul></li><li><span><a href=\"#XGBoost\" data-toc-modified-id=\"XGBoost-4.3\"><span class=\"toc-item-num\">4.3&nbsp;&nbsp;</span>XGBoost</a></span><ul class=\"toc-item\"><li><span><a href=\"#Fit-Training-Data\" data-toc-modified-id=\"Fit-Training-Data-4.3.1\"><span class=\"toc-item-num\">4.3.1&nbsp;&nbsp;</span>Fit Training Data</a></span></li><li><span><a href=\"#Predict-Testing-Data\" data-toc-modified-id=\"Predict-Testing-Data-4.3.2\"><span class=\"toc-item-num\">4.3.2&nbsp;&nbsp;</span>Predict Testing Data</a></span></li><li><span><a href=\"#Model-Evaluation\" data-toc-modified-id=\"Model-Evaluation-4.3.3\"><span class=\"toc-item-num\">4.3.3&nbsp;&nbsp;</span>Model Evaluation</a></span><ul class=\"toc-item\"><li><span><a href=\"#Test\" data-toc-modified-id=\"Test-4.3.3.1\"><span class=\"toc-item-num\">4.3.3.1&nbsp;&nbsp;</span>Test</a></span></li><li><span><a href=\"#Train\" data-toc-modified-id=\"Train-4.3.3.2\"><span class=\"toc-item-num\">4.3.3.2&nbsp;&nbsp;</span>Train</a></span></li></ul></li><li><span><a href=\"#Feature-Importance\" data-toc-modified-id=\"Feature-Importance-4.3.4\"><span class=\"toc-item-num\">4.3.4&nbsp;&nbsp;</span>Feature Importance</a></span></li></ul></li><li><span><a href=\"#Logistic-Regression\" data-toc-modified-id=\"Logistic-Regression-4.4\"><span class=\"toc-item-num\">4.4&nbsp;&nbsp;</span>Logistic Regression</a></span><ul class=\"toc-item\"><li><span><a href=\"#Fit-Training-Data\" data-toc-modified-id=\"Fit-Training-Data-4.4.1\"><span class=\"toc-item-num\">4.4.1&nbsp;&nbsp;</span>Fit Training Data</a></span></li><li><span><a href=\"#Predict-Testing-Data\" data-toc-modified-id=\"Predict-Testing-Data-4.4.2\"><span class=\"toc-item-num\">4.4.2&nbsp;&nbsp;</span>Predict Testing Data</a></span></li><li><span><a href=\"#Model-Evaluation\" data-toc-modified-id=\"Model-Evaluation-4.4.3\"><span class=\"toc-item-num\">4.4.3&nbsp;&nbsp;</span>Model Evaluation</a></span><ul class=\"toc-item\"><li><span><a href=\"#Test\" data-toc-modified-id=\"Test-4.4.3.1\"><span class=\"toc-item-num\">4.4.3.1&nbsp;&nbsp;</span>Test</a></span></li><li><span><a href=\"#Train\" data-toc-modified-id=\"Train-4.4.3.2\"><span class=\"toc-item-num\">4.4.3.2&nbsp;&nbsp;</span>Train</a></span></li></ul></li></ul></li><li><span><a href=\"#K-Nearest-Neighbors\" data-toc-modified-id=\"K-Nearest-Neighbors-4.5\"><span class=\"toc-item-num\">4.5&nbsp;&nbsp;</span>K-Nearest Neighbors</a></span><ul class=\"toc-item\"><li><span><a href=\"#Fit-Training-Data\" data-toc-modified-id=\"Fit-Training-Data-4.5.1\"><span class=\"toc-item-num\">4.5.1&nbsp;&nbsp;</span>Fit Training Data</a></span></li><li><span><a href=\"#Predict-Testing-Data\" data-toc-modified-id=\"Predict-Testing-Data-4.5.2\"><span class=\"toc-item-num\">4.5.2&nbsp;&nbsp;</span>Predict Testing Data</a></span></li><li><span><a href=\"#Model-Evaluation\" data-toc-modified-id=\"Model-Evaluation-4.5.3\"><span class=\"toc-item-num\">4.5.3&nbsp;&nbsp;</span>Model Evaluation</a></span><ul class=\"toc-item\"><li><span><a href=\"#Test\" data-toc-modified-id=\"Test-4.5.3.1\"><span class=\"toc-item-num\">4.5.3.1&nbsp;&nbsp;</span>Test</a></span></li><li><span><a href=\"#Train\" data-toc-modified-id=\"Train-4.5.3.2\"><span class=\"toc-item-num\">4.5.3.2&nbsp;&nbsp;</span>Train</a></span></li></ul></li></ul></li><li><span><a href=\"#Evaluation-Summary\" data-toc-modified-id=\"Evaluation-Summary-4.6\"><span class=\"toc-item-num\">4.6&nbsp;&nbsp;</span>Evaluation Summary</a></span></li><li><span><a href=\"#Model-Performance-Visualization\" data-toc-modified-id=\"Model-Performance-Visualization-4.7\"><span class=\"toc-item-num\">4.7&nbsp;&nbsp;</span>Model Performance Visualization</a></span></li><li><span><a href=\"#Chosen-Model:-XGBoost\" data-toc-modified-id=\"Chosen-Model:-XGBoost-4.8\"><span class=\"toc-item-num\">4.8&nbsp;&nbsp;</span>Chosen Model: XGBoost</a></span><ul class=\"toc-item\"><li><span><a href=\"#Hyperparameter-Tuning\" data-toc-modified-id=\"Hyperparameter-Tuning-4.8.1\"><span class=\"toc-item-num\">4.8.1&nbsp;&nbsp;</span>Hyperparameter Tuning</a></span><ul class=\"toc-item\"><li><span><a href=\"#Fit-Training-Data\" data-toc-modified-id=\"Fit-Training-Data-4.8.1.1\"><span class=\"toc-item-num\">4.8.1.1&nbsp;&nbsp;</span>Fit Training Data</a></span></li><li><span><a href=\"#Best-Parameters\" data-toc-modified-id=\"Best-Parameters-4.8.1.2\"><span class=\"toc-item-num\">4.8.1.2&nbsp;&nbsp;</span>Best Parameters</a></span></li><li><span><a href=\"#Predict-Testing-Data\" data-toc-modified-id=\"Predict-Testing-Data-4.8.1.3\"><span class=\"toc-item-num\">4.8.1.3&nbsp;&nbsp;</span>Predict Testing Data</a></span></li></ul></li></ul></li></ul></li></ul></div>"
   ]
  },
  {
   "cell_type": "markdown",
   "metadata": {},
   "source": [
    "**Kelompok: Sandbox 2.0**\n",
    "\n",
    "**Anggota:**\n",
    "- Fadilah Nur Imani\n",
    "- Wine Tesa\n",
    "- Anjar Desmiarti\n",
    "- Winda\n",
    "- Shahrie Rabbani\n",
    "\n",
    "**Dataset:**\n",
    "Health Insurance\n",
    "\n",
    "**Mentor:**\n",
    "Rezki Trianto"
   ]
  },
  {
   "cell_type": "code",
   "execution_count": 1,
   "metadata": {
    "ExecuteTime": {
     "end_time": "2021-02-12T21:54:50.839464Z",
     "start_time": "2021-02-12T21:54:47.151502Z"
    }
   },
   "outputs": [],
   "source": [
    "import pandas as pd\n",
    "import numpy as np\n",
    "\n",
    "# visualization\n",
    "import seaborn as sns\n",
    "import matplotlib\n",
    "import matplotlib.pyplot as plt\n",
    "from matplotlib.lines import Line2D\n",
    "%matplotlib inline\n",
    "\n",
    "import imblearn\n",
    "from imblearn import over_sampling\n",
    "\n",
    "# pre-processing\n",
    "import sklearn\n",
    "from sklearn import preprocessing\n",
    "from sklearn.preprocessing import OrdinalEncoder, LabelEncoder\n",
    "from sklearn.preprocessing import StandardScaler\n",
    "\n",
    "from sklearn.model_selection import train_test_split "
   ]
  },
  {
   "cell_type": "code",
   "execution_count": 2,
   "metadata": {
    "ExecuteTime": {
     "end_time": "2021-02-12T21:54:50.846456Z",
     "start_time": "2021-02-12T21:54:50.842456Z"
    }
   },
   "outputs": [],
   "source": [
    "# import model evaluation\n",
    "from sklearn.metrics import classification_report, confusion_matrix\n",
    "from sklearn.metrics import roc_auc_score, accuracy_score, f1_score, precision_score, recall_score"
   ]
  },
  {
   "cell_type": "code",
   "execution_count": 3,
   "metadata": {
    "ExecuteTime": {
     "end_time": "2021-02-12T21:54:55.999692Z",
     "start_time": "2021-02-12T21:54:50.850435Z"
    }
   },
   "outputs": [],
   "source": [
    "# import classifier\n",
    "from sklearn.ensemble import RandomForestClassifier\n",
    "from sklearn.tree import DecisionTreeClassifier\n",
    "import xgboost\n",
    "from xgboost import XGBClassifier\n",
    "from sklearn.linear_model import LogisticRegression\n",
    "from sklearn.neighbors import KNeighborsClassifier"
   ]
  },
  {
   "cell_type": "code",
   "execution_count": 4,
   "metadata": {
    "ExecuteTime": {
     "end_time": "2021-02-12T21:54:56.006644Z",
     "start_time": "2021-02-12T21:54:56.001655Z"
    }
   },
   "outputs": [],
   "source": [
    "from sklearn.model_selection import RandomizedSearchCV, GridSearchCV\n",
    "import scipy\n",
    "from scipy.stats import uniform"
   ]
  },
  {
   "cell_type": "code",
   "execution_count": 5,
   "metadata": {
    "ExecuteTime": {
     "end_time": "2021-02-12T21:54:56.025591Z",
     "start_time": "2021-02-12T21:54:56.008638Z"
    }
   },
   "outputs": [
    {
     "name": "stdout",
     "output_type": "stream",
     "text": [
      "Pandas: 1.1.3\n",
      "Numpy: 1.19.2\n",
      "Matplotlib: 3.3.2\n",
      "Seaborn: 0.11.0\n",
      "Imblearn: 0.7.0\n",
      "Scikit-Learn: 0.23.2\n",
      "XGBoost: 1.3.3\n",
      "Scipy: 1.5.2\n"
     ]
    }
   ],
   "source": [
    "print('Pandas:', pd.__version__)\n",
    "print('Numpy:', np.__version__)\n",
    "print('Matplotlib:', matplotlib.__version__)\n",
    "print('Seaborn:', sns.__version__)\n",
    "print('Imblearn:', imblearn.__version__)\n",
    "print('Scikit-Learn:', sklearn.__version__)\n",
    "print('XGBoost:', xgboost.__version__)\n",
    "print('Scipy:', scipy.__version__)"
   ]
  },
  {
   "cell_type": "code",
   "execution_count": 6,
   "metadata": {
    "ExecuteTime": {
     "end_time": "2021-02-12T21:54:56.032574Z",
     "start_time": "2021-02-12T21:54:56.027586Z"
    }
   },
   "outputs": [],
   "source": [
    "sns.set_style(\"whitegrid\")\n",
    "sns.color_palette(\"dark\")\n",
    "plt.style.use(\"fivethirtyeight\")"
   ]
  },
  {
   "cell_type": "markdown",
   "metadata": {},
   "source": [
    "# Load Data\n",
    "- From stage 1"
   ]
  },
  {
   "cell_type": "code",
   "execution_count": 7,
   "metadata": {
    "ExecuteTime": {
     "end_time": "2021-02-12T21:54:56.936155Z",
     "start_time": "2021-02-12T21:54:56.034567Z"
    }
   },
   "outputs": [
    {
     "data": {
      "text/html": [
       "<div>\n",
       "<style scoped>\n",
       "    .dataframe tbody tr th:only-of-type {\n",
       "        vertical-align: middle;\n",
       "    }\n",
       "\n",
       "    .dataframe tbody tr th {\n",
       "        vertical-align: top;\n",
       "    }\n",
       "\n",
       "    .dataframe thead th {\n",
       "        text-align: right;\n",
       "    }\n",
       "</style>\n",
       "<table border=\"1\" class=\"dataframe\">\n",
       "  <thead>\n",
       "    <tr style=\"text-align: right;\">\n",
       "      <th></th>\n",
       "      <th>Gender_Male</th>\n",
       "      <th>Gender_Female</th>\n",
       "      <th>Age_log</th>\n",
       "      <th>Driving_License</th>\n",
       "      <th>Region_Code_Encoding</th>\n",
       "      <th>Previously_Insured</th>\n",
       "      <th>Vehicle_Age_Encoding</th>\n",
       "      <th>Vehicle_Damage_Encoding</th>\n",
       "      <th>Annual_Premium</th>\n",
       "      <th>Policy_Sales_Channel_Encoding</th>\n",
       "      <th>Vintage</th>\n",
       "      <th>Response</th>\n",
       "    </tr>\n",
       "  </thead>\n",
       "  <tbody>\n",
       "    <tr>\n",
       "      <th>0</th>\n",
       "      <td>1</td>\n",
       "      <td>0</td>\n",
       "      <td>3.784190</td>\n",
       "      <td>1</td>\n",
       "      <td>0.187163</td>\n",
       "      <td>0</td>\n",
       "      <td>2</td>\n",
       "      <td>1</td>\n",
       "      <td>40454.000000</td>\n",
       "      <td>0.199385</td>\n",
       "      <td>217</td>\n",
       "      <td>1</td>\n",
       "    </tr>\n",
       "    <tr>\n",
       "      <th>1</th>\n",
       "      <td>1</td>\n",
       "      <td>0</td>\n",
       "      <td>4.330733</td>\n",
       "      <td>1</td>\n",
       "      <td>0.127662</td>\n",
       "      <td>0</td>\n",
       "      <td>1</td>\n",
       "      <td>0</td>\n",
       "      <td>33536.000000</td>\n",
       "      <td>0.199385</td>\n",
       "      <td>183</td>\n",
       "      <td>0</td>\n",
       "    </tr>\n",
       "    <tr>\n",
       "      <th>2</th>\n",
       "      <td>1</td>\n",
       "      <td>0</td>\n",
       "      <td>3.850148</td>\n",
       "      <td>1</td>\n",
       "      <td>0.187163</td>\n",
       "      <td>0</td>\n",
       "      <td>2</td>\n",
       "      <td>1</td>\n",
       "      <td>38294.000000</td>\n",
       "      <td>0.199385</td>\n",
       "      <td>27</td>\n",
       "      <td>1</td>\n",
       "    </tr>\n",
       "    <tr>\n",
       "      <th>3</th>\n",
       "      <td>1</td>\n",
       "      <td>0</td>\n",
       "      <td>3.044522</td>\n",
       "      <td>1</td>\n",
       "      <td>0.112760</td>\n",
       "      <td>1</td>\n",
       "      <td>0</td>\n",
       "      <td>0</td>\n",
       "      <td>28619.000000</td>\n",
       "      <td>0.028624</td>\n",
       "      <td>203</td>\n",
       "      <td>0</td>\n",
       "    </tr>\n",
       "    <tr>\n",
       "      <th>4</th>\n",
       "      <td>0</td>\n",
       "      <td>1</td>\n",
       "      <td>3.367296</td>\n",
       "      <td>1</td>\n",
       "      <td>0.121776</td>\n",
       "      <td>1</td>\n",
       "      <td>0</td>\n",
       "      <td>0</td>\n",
       "      <td>27496.000000</td>\n",
       "      <td>0.028624</td>\n",
       "      <td>39</td>\n",
       "      <td>0</td>\n",
       "    </tr>\n",
       "    <tr>\n",
       "      <th>...</th>\n",
       "      <td>...</td>\n",
       "      <td>...</td>\n",
       "      <td>...</td>\n",
       "      <td>...</td>\n",
       "      <td>...</td>\n",
       "      <td>...</td>\n",
       "      <td>...</td>\n",
       "      <td>...</td>\n",
       "      <td>...</td>\n",
       "      <td>...</td>\n",
       "      <td>...</td>\n",
       "      <td>...</td>\n",
       "    </tr>\n",
       "    <tr>\n",
       "      <th>651263</th>\n",
       "      <td>0</td>\n",
       "      <td>1</td>\n",
       "      <td>3.696982</td>\n",
       "      <td>1</td>\n",
       "      <td>0.103250</td>\n",
       "      <td>0</td>\n",
       "      <td>1</td>\n",
       "      <td>1</td>\n",
       "      <td>2630.000000</td>\n",
       "      <td>0.189148</td>\n",
       "      <td>100</td>\n",
       "      <td>1</td>\n",
       "    </tr>\n",
       "    <tr>\n",
       "      <th>651264</th>\n",
       "      <td>1</td>\n",
       "      <td>0</td>\n",
       "      <td>3.889989</td>\n",
       "      <td>1</td>\n",
       "      <td>0.156461</td>\n",
       "      <td>0</td>\n",
       "      <td>1</td>\n",
       "      <td>1</td>\n",
       "      <td>26058.564656</td>\n",
       "      <td>0.194361</td>\n",
       "      <td>46</td>\n",
       "      <td>1</td>\n",
       "    </tr>\n",
       "    <tr>\n",
       "      <th>651265</th>\n",
       "      <td>0</td>\n",
       "      <td>0</td>\n",
       "      <td>3.810068</td>\n",
       "      <td>1</td>\n",
       "      <td>0.096633</td>\n",
       "      <td>0</td>\n",
       "      <td>1</td>\n",
       "      <td>1</td>\n",
       "      <td>37632.922133</td>\n",
       "      <td>0.245069</td>\n",
       "      <td>44</td>\n",
       "      <td>1</td>\n",
       "    </tr>\n",
       "    <tr>\n",
       "      <th>651266</th>\n",
       "      <td>1</td>\n",
       "      <td>0</td>\n",
       "      <td>3.824069</td>\n",
       "      <td>1</td>\n",
       "      <td>0.124414</td>\n",
       "      <td>0</td>\n",
       "      <td>1</td>\n",
       "      <td>1</td>\n",
       "      <td>27071.086479</td>\n",
       "      <td>0.237521</td>\n",
       "      <td>133</td>\n",
       "      <td>1</td>\n",
       "    </tr>\n",
       "    <tr>\n",
       "      <th>651267</th>\n",
       "      <td>1</td>\n",
       "      <td>0</td>\n",
       "      <td>3.790798</td>\n",
       "      <td>1</td>\n",
       "      <td>0.108923</td>\n",
       "      <td>0</td>\n",
       "      <td>1</td>\n",
       "      <td>1</td>\n",
       "      <td>30598.336226</td>\n",
       "      <td>0.157416</td>\n",
       "      <td>179</td>\n",
       "      <td>1</td>\n",
       "    </tr>\n",
       "  </tbody>\n",
       "</table>\n",
       "<p>651268 rows × 12 columns</p>\n",
       "</div>"
      ],
      "text/plain": [
       "        Gender_Male  Gender_Female   Age_log  Driving_License  \\\n",
       "0                 1              0  3.784190                1   \n",
       "1                 1              0  4.330733                1   \n",
       "2                 1              0  3.850148                1   \n",
       "3                 1              0  3.044522                1   \n",
       "4                 0              1  3.367296                1   \n",
       "...             ...            ...       ...              ...   \n",
       "651263            0              1  3.696982                1   \n",
       "651264            1              0  3.889989                1   \n",
       "651265            0              0  3.810068                1   \n",
       "651266            1              0  3.824069                1   \n",
       "651267            1              0  3.790798                1   \n",
       "\n",
       "        Region_Code_Encoding  Previously_Insured  Vehicle_Age_Encoding  \\\n",
       "0                   0.187163                   0                     2   \n",
       "1                   0.127662                   0                     1   \n",
       "2                   0.187163                   0                     2   \n",
       "3                   0.112760                   1                     0   \n",
       "4                   0.121776                   1                     0   \n",
       "...                      ...                 ...                   ...   \n",
       "651263              0.103250                   0                     1   \n",
       "651264              0.156461                   0                     1   \n",
       "651265              0.096633                   0                     1   \n",
       "651266              0.124414                   0                     1   \n",
       "651267              0.108923                   0                     1   \n",
       "\n",
       "        Vehicle_Damage_Encoding  Annual_Premium  \\\n",
       "0                             1    40454.000000   \n",
       "1                             0    33536.000000   \n",
       "2                             1    38294.000000   \n",
       "3                             0    28619.000000   \n",
       "4                             0    27496.000000   \n",
       "...                         ...             ...   \n",
       "651263                        1     2630.000000   \n",
       "651264                        1    26058.564656   \n",
       "651265                        1    37632.922133   \n",
       "651266                        1    27071.086479   \n",
       "651267                        1    30598.336226   \n",
       "\n",
       "        Policy_Sales_Channel_Encoding  Vintage  Response  \n",
       "0                            0.199385      217         1  \n",
       "1                            0.199385      183         0  \n",
       "2                            0.199385       27         1  \n",
       "3                            0.028624      203         0  \n",
       "4                            0.028624       39         0  \n",
       "...                               ...      ...       ...  \n",
       "651263                       0.189148      100         1  \n",
       "651264                       0.194361       46         1  \n",
       "651265                       0.245069       44         1  \n",
       "651266                       0.237521      133         1  \n",
       "651267                       0.157416      179         1  \n",
       "\n",
       "[651268 rows x 12 columns]"
      ]
     },
     "execution_count": 7,
     "metadata": {},
     "output_type": "execute_result"
    }
   ],
   "source": [
    "data_modeling = pd.read_csv('output/data_oversampling.csv')\n",
    "data_modeling"
   ]
  },
  {
   "cell_type": "markdown",
   "metadata": {
    "ExecuteTime": {
     "end_time": "2021-02-07T07:10:38.319732Z",
     "start_time": "2021-02-07T07:10:38.313748Z"
    }
   },
   "source": [
    "# Train Test Split"
   ]
  },
  {
   "cell_type": "markdown",
   "metadata": {},
   "source": [
    "- We will split the dataset before scaling to avoid data leakage"
   ]
  },
  {
   "cell_type": "code",
   "execution_count": 8,
   "metadata": {
    "ExecuteTime": {
     "end_time": "2021-02-12T21:54:56.986021Z",
     "start_time": "2021-02-12T21:54:56.939147Z"
    }
   },
   "outputs": [
    {
     "name": "stdout",
     "output_type": "stream",
     "text": [
      "<class 'pandas.core.frame.DataFrame'>\n",
      "RangeIndex: 651268 entries, 0 to 651267\n",
      "Data columns (total 12 columns):\n",
      " #   Column                         Non-Null Count   Dtype  \n",
      "---  ------                         --------------   -----  \n",
      " 0   Gender_Male                    651268 non-null  int64  \n",
      " 1   Gender_Female                  651268 non-null  int64  \n",
      " 2   Age_log                        651268 non-null  float64\n",
      " 3   Driving_License                651268 non-null  int64  \n",
      " 4   Region_Code_Encoding           651268 non-null  float64\n",
      " 5   Previously_Insured             651268 non-null  int64  \n",
      " 6   Vehicle_Age_Encoding           651268 non-null  int64  \n",
      " 7   Vehicle_Damage_Encoding        651268 non-null  int64  \n",
      " 8   Annual_Premium                 651268 non-null  float64\n",
      " 9   Policy_Sales_Channel_Encoding  651268 non-null  float64\n",
      " 10  Vintage                        651268 non-null  int64  \n",
      " 11  Response                       651268 non-null  int64  \n",
      "dtypes: float64(4), int64(8)\n",
      "memory usage: 59.6 MB\n"
     ]
    }
   ],
   "source": [
    "data_modeling.info()"
   ]
  },
  {
   "cell_type": "code",
   "execution_count": 9,
   "metadata": {
    "ExecuteTime": {
     "end_time": "2021-02-12T21:54:57.031900Z",
     "start_time": "2021-02-12T21:54:56.989013Z"
    }
   },
   "outputs": [],
   "source": [
    "X = data_modeling[[\n",
    "    'Gender_Male', 'Gender_Female',\n",
    "    'Age_log',\n",
    "    'Driving_License',\n",
    "    'Region_Code_Encoding',\n",
    "    'Previously_Insured',\n",
    "    'Vehicle_Age_Encoding',\n",
    "    'Vehicle_Damage_Encoding',\n",
    "    'Annual_Premium',\n",
    "    'Policy_Sales_Channel_Encoding',\n",
    "    'Vintage'\n",
    "]]\n",
    "\n",
    "y = data_modeling['Response']"
   ]
  },
  {
   "cell_type": "code",
   "execution_count": 10,
   "metadata": {
    "ExecuteTime": {
     "end_time": "2021-02-12T21:54:57.295195Z",
     "start_time": "2021-02-12T21:54:57.033895Z"
    }
   },
   "outputs": [],
   "source": [
    "X_train, X_test, y_train, y_test = train_test_split(X, y, test_size = 0.3, random_state = 42)"
   ]
  },
  {
   "cell_type": "code",
   "execution_count": 11,
   "metadata": {
    "ExecuteTime": {
     "end_time": "2021-02-12T21:54:57.319131Z",
     "start_time": "2021-02-12T21:54:57.297190Z"
    }
   },
   "outputs": [
    {
     "data": {
      "text/html": [
       "<div>\n",
       "<style scoped>\n",
       "    .dataframe tbody tr th:only-of-type {\n",
       "        vertical-align: middle;\n",
       "    }\n",
       "\n",
       "    .dataframe tbody tr th {\n",
       "        vertical-align: top;\n",
       "    }\n",
       "\n",
       "    .dataframe thead th {\n",
       "        text-align: right;\n",
       "    }\n",
       "</style>\n",
       "<table border=\"1\" class=\"dataframe\">\n",
       "  <thead>\n",
       "    <tr style=\"text-align: right;\">\n",
       "      <th></th>\n",
       "      <th>Gender_Male</th>\n",
       "      <th>Gender_Female</th>\n",
       "      <th>Age_log</th>\n",
       "      <th>Driving_License</th>\n",
       "      <th>Region_Code_Encoding</th>\n",
       "      <th>Previously_Insured</th>\n",
       "      <th>Vehicle_Age_Encoding</th>\n",
       "      <th>Vehicle_Damage_Encoding</th>\n",
       "      <th>Annual_Premium</th>\n",
       "      <th>Policy_Sales_Channel_Encoding</th>\n",
       "      <th>Vintage</th>\n",
       "    </tr>\n",
       "  </thead>\n",
       "  <tbody>\n",
       "    <tr>\n",
       "      <th>27542</th>\n",
       "      <td>1</td>\n",
       "      <td>0</td>\n",
       "      <td>3.713572</td>\n",
       "      <td>1</td>\n",
       "      <td>0.187163</td>\n",
       "      <td>0</td>\n",
       "      <td>1</td>\n",
       "      <td>0</td>\n",
       "      <td>29919.00000</td>\n",
       "      <td>0.189148</td>\n",
       "      <td>138</td>\n",
       "    </tr>\n",
       "    <tr>\n",
       "      <th>167749</th>\n",
       "      <td>1</td>\n",
       "      <td>0</td>\n",
       "      <td>3.135494</td>\n",
       "      <td>1</td>\n",
       "      <td>0.071075</td>\n",
       "      <td>0</td>\n",
       "      <td>0</td>\n",
       "      <td>1</td>\n",
       "      <td>31944.00000</td>\n",
       "      <td>0.028624</td>\n",
       "      <td>142</td>\n",
       "    </tr>\n",
       "    <tr>\n",
       "      <th>536757</th>\n",
       "      <td>1</td>\n",
       "      <td>0</td>\n",
       "      <td>3.810760</td>\n",
       "      <td>1</td>\n",
       "      <td>0.098490</td>\n",
       "      <td>0</td>\n",
       "      <td>1</td>\n",
       "      <td>1</td>\n",
       "      <td>40646.00000</td>\n",
       "      <td>0.194980</td>\n",
       "      <td>230</td>\n",
       "    </tr>\n",
       "    <tr>\n",
       "      <th>623633</th>\n",
       "      <td>1</td>\n",
       "      <td>0</td>\n",
       "      <td>3.800044</td>\n",
       "      <td>1</td>\n",
       "      <td>0.182655</td>\n",
       "      <td>0</td>\n",
       "      <td>1</td>\n",
       "      <td>1</td>\n",
       "      <td>35148.60855</td>\n",
       "      <td>0.198984</td>\n",
       "      <td>297</td>\n",
       "    </tr>\n",
       "    <tr>\n",
       "      <th>262405</th>\n",
       "      <td>0</td>\n",
       "      <td>1</td>\n",
       "      <td>4.007333</td>\n",
       "      <td>1</td>\n",
       "      <td>0.187163</td>\n",
       "      <td>0</td>\n",
       "      <td>1</td>\n",
       "      <td>1</td>\n",
       "      <td>54593.00000</td>\n",
       "      <td>0.189148</td>\n",
       "      <td>166</td>\n",
       "    </tr>\n",
       "    <tr>\n",
       "      <th>...</th>\n",
       "      <td>...</td>\n",
       "      <td>...</td>\n",
       "      <td>...</td>\n",
       "      <td>...</td>\n",
       "      <td>...</td>\n",
       "      <td>...</td>\n",
       "      <td>...</td>\n",
       "      <td>...</td>\n",
       "      <td>...</td>\n",
       "      <td>...</td>\n",
       "      <td>...</td>\n",
       "    </tr>\n",
       "    <tr>\n",
       "      <th>644167</th>\n",
       "      <td>0</td>\n",
       "      <td>0</td>\n",
       "      <td>3.806662</td>\n",
       "      <td>1</td>\n",
       "      <td>0.079431</td>\n",
       "      <td>0</td>\n",
       "      <td>1</td>\n",
       "      <td>1</td>\n",
       "      <td>21348.85750</td>\n",
       "      <td>0.178244</td>\n",
       "      <td>28</td>\n",
       "    </tr>\n",
       "    <tr>\n",
       "      <th>259178</th>\n",
       "      <td>1</td>\n",
       "      <td>0</td>\n",
       "      <td>3.713572</td>\n",
       "      <td>1</td>\n",
       "      <td>0.187163</td>\n",
       "      <td>0</td>\n",
       "      <td>1</td>\n",
       "      <td>1</td>\n",
       "      <td>38987.00000</td>\n",
       "      <td>0.268402</td>\n",
       "      <td>224</td>\n",
       "    </tr>\n",
       "    <tr>\n",
       "      <th>365838</th>\n",
       "      <td>1</td>\n",
       "      <td>0</td>\n",
       "      <td>3.688879</td>\n",
       "      <td>1</td>\n",
       "      <td>0.127662</td>\n",
       "      <td>0</td>\n",
       "      <td>1</td>\n",
       "      <td>1</td>\n",
       "      <td>23612.00000</td>\n",
       "      <td>0.189148</td>\n",
       "      <td>211</td>\n",
       "    </tr>\n",
       "    <tr>\n",
       "      <th>131932</th>\n",
       "      <td>0</td>\n",
       "      <td>1</td>\n",
       "      <td>4.189655</td>\n",
       "      <td>1</td>\n",
       "      <td>0.096142</td>\n",
       "      <td>0</td>\n",
       "      <td>1</td>\n",
       "      <td>0</td>\n",
       "      <td>49500.00000</td>\n",
       "      <td>0.199385</td>\n",
       "      <td>114</td>\n",
       "    </tr>\n",
       "    <tr>\n",
       "      <th>121958</th>\n",
       "      <td>0</td>\n",
       "      <td>1</td>\n",
       "      <td>4.158883</td>\n",
       "      <td>1</td>\n",
       "      <td>0.096142</td>\n",
       "      <td>0</td>\n",
       "      <td>1</td>\n",
       "      <td>0</td>\n",
       "      <td>51277.00000</td>\n",
       "      <td>0.113892</td>\n",
       "      <td>54</td>\n",
       "    </tr>\n",
       "  </tbody>\n",
       "</table>\n",
       "<p>455887 rows × 11 columns</p>\n",
       "</div>"
      ],
      "text/plain": [
       "        Gender_Male  Gender_Female   Age_log  Driving_License  \\\n",
       "27542             1              0  3.713572                1   \n",
       "167749            1              0  3.135494                1   \n",
       "536757            1              0  3.810760                1   \n",
       "623633            1              0  3.800044                1   \n",
       "262405            0              1  4.007333                1   \n",
       "...             ...            ...       ...              ...   \n",
       "644167            0              0  3.806662                1   \n",
       "259178            1              0  3.713572                1   \n",
       "365838            1              0  3.688879                1   \n",
       "131932            0              1  4.189655                1   \n",
       "121958            0              1  4.158883                1   \n",
       "\n",
       "        Region_Code_Encoding  Previously_Insured  Vehicle_Age_Encoding  \\\n",
       "27542               0.187163                   0                     1   \n",
       "167749              0.071075                   0                     0   \n",
       "536757              0.098490                   0                     1   \n",
       "623633              0.182655                   0                     1   \n",
       "262405              0.187163                   0                     1   \n",
       "...                      ...                 ...                   ...   \n",
       "644167              0.079431                   0                     1   \n",
       "259178              0.187163                   0                     1   \n",
       "365838              0.127662                   0                     1   \n",
       "131932              0.096142                   0                     1   \n",
       "121958              0.096142                   0                     1   \n",
       "\n",
       "        Vehicle_Damage_Encoding  Annual_Premium  \\\n",
       "27542                         0     29919.00000   \n",
       "167749                        1     31944.00000   \n",
       "536757                        1     40646.00000   \n",
       "623633                        1     35148.60855   \n",
       "262405                        1     54593.00000   \n",
       "...                         ...             ...   \n",
       "644167                        1     21348.85750   \n",
       "259178                        1     38987.00000   \n",
       "365838                        1     23612.00000   \n",
       "131932                        0     49500.00000   \n",
       "121958                        0     51277.00000   \n",
       "\n",
       "        Policy_Sales_Channel_Encoding  Vintage  \n",
       "27542                        0.189148      138  \n",
       "167749                       0.028624      142  \n",
       "536757                       0.194980      230  \n",
       "623633                       0.198984      297  \n",
       "262405                       0.189148      166  \n",
       "...                               ...      ...  \n",
       "644167                       0.178244       28  \n",
       "259178                       0.268402      224  \n",
       "365838                       0.189148      211  \n",
       "131932                       0.199385      114  \n",
       "121958                       0.113892       54  \n",
       "\n",
       "[455887 rows x 11 columns]"
      ]
     },
     "execution_count": 11,
     "metadata": {},
     "output_type": "execute_result"
    }
   ],
   "source": [
    "X_train"
   ]
  },
  {
   "cell_type": "code",
   "execution_count": 12,
   "metadata": {
    "ExecuteTime": {
     "end_time": "2021-02-12T21:54:57.328106Z",
     "start_time": "2021-02-12T21:54:57.321125Z"
    }
   },
   "outputs": [
    {
     "data": {
      "text/plain": [
       "27542     1\n",
       "167749    1\n",
       "536757    1\n",
       "623633    1\n",
       "262405    0\n",
       "         ..\n",
       "644167    1\n",
       "259178    1\n",
       "365838    1\n",
       "131932    0\n",
       "121958    0\n",
       "Name: Response, Length: 455887, dtype: int64"
      ]
     },
     "execution_count": 12,
     "metadata": {},
     "output_type": "execute_result"
    }
   ],
   "source": [
    "y_train"
   ]
  },
  {
   "cell_type": "code",
   "execution_count": 13,
   "metadata": {
    "ExecuteTime": {
     "end_time": "2021-02-12T21:54:57.353040Z",
     "start_time": "2021-02-12T21:54:57.330101Z"
    }
   },
   "outputs": [
    {
     "data": {
      "text/html": [
       "<div>\n",
       "<style scoped>\n",
       "    .dataframe tbody tr th:only-of-type {\n",
       "        vertical-align: middle;\n",
       "    }\n",
       "\n",
       "    .dataframe tbody tr th {\n",
       "        vertical-align: top;\n",
       "    }\n",
       "\n",
       "    .dataframe thead th {\n",
       "        text-align: right;\n",
       "    }\n",
       "</style>\n",
       "<table border=\"1\" class=\"dataframe\">\n",
       "  <thead>\n",
       "    <tr style=\"text-align: right;\">\n",
       "      <th></th>\n",
       "      <th>Gender_Male</th>\n",
       "      <th>Gender_Female</th>\n",
       "      <th>Age_log</th>\n",
       "      <th>Driving_License</th>\n",
       "      <th>Region_Code_Encoding</th>\n",
       "      <th>Previously_Insured</th>\n",
       "      <th>Vehicle_Age_Encoding</th>\n",
       "      <th>Vehicle_Damage_Encoding</th>\n",
       "      <th>Annual_Premium</th>\n",
       "      <th>Policy_Sales_Channel_Encoding</th>\n",
       "      <th>Vintage</th>\n",
       "    </tr>\n",
       "  </thead>\n",
       "  <tbody>\n",
       "    <tr>\n",
       "      <th>66271</th>\n",
       "      <td>0</td>\n",
       "      <td>1</td>\n",
       "      <td>3.850148</td>\n",
       "      <td>1</td>\n",
       "      <td>0.127662</td>\n",
       "      <td>1</td>\n",
       "      <td>1</td>\n",
       "      <td>0</td>\n",
       "      <td>33902.000000</td>\n",
       "      <td>0.189148</td>\n",
       "      <td>48</td>\n",
       "    </tr>\n",
       "    <tr>\n",
       "      <th>13524</th>\n",
       "      <td>0</td>\n",
       "      <td>1</td>\n",
       "      <td>3.258097</td>\n",
       "      <td>1</td>\n",
       "      <td>0.062677</td>\n",
       "      <td>1</td>\n",
       "      <td>0</td>\n",
       "      <td>0</td>\n",
       "      <td>23055.000000</td>\n",
       "      <td>0.028624</td>\n",
       "      <td>271</td>\n",
       "    </tr>\n",
       "    <tr>\n",
       "      <th>589837</th>\n",
       "      <td>0</td>\n",
       "      <td>1</td>\n",
       "      <td>3.769684</td>\n",
       "      <td>1</td>\n",
       "      <td>0.101071</td>\n",
       "      <td>0</td>\n",
       "      <td>1</td>\n",
       "      <td>1</td>\n",
       "      <td>33409.548842</td>\n",
       "      <td>0.189148</td>\n",
       "      <td>236</td>\n",
       "    </tr>\n",
       "    <tr>\n",
       "      <th>531015</th>\n",
       "      <td>0</td>\n",
       "      <td>0</td>\n",
       "      <td>3.442210</td>\n",
       "      <td>1</td>\n",
       "      <td>0.173302</td>\n",
       "      <td>0</td>\n",
       "      <td>0</td>\n",
       "      <td>1</td>\n",
       "      <td>33717.028419</td>\n",
       "      <td>0.176925</td>\n",
       "      <td>242</td>\n",
       "    </tr>\n",
       "    <tr>\n",
       "      <th>76665</th>\n",
       "      <td>1</td>\n",
       "      <td>0</td>\n",
       "      <td>3.583519</td>\n",
       "      <td>1</td>\n",
       "      <td>0.187163</td>\n",
       "      <td>0</td>\n",
       "      <td>1</td>\n",
       "      <td>1</td>\n",
       "      <td>34961.000000</td>\n",
       "      <td>0.102515</td>\n",
       "      <td>281</td>\n",
       "    </tr>\n",
       "    <tr>\n",
       "      <th>...</th>\n",
       "      <td>...</td>\n",
       "      <td>...</td>\n",
       "      <td>...</td>\n",
       "      <td>...</td>\n",
       "      <td>...</td>\n",
       "      <td>...</td>\n",
       "      <td>...</td>\n",
       "      <td>...</td>\n",
       "      <td>...</td>\n",
       "      <td>...</td>\n",
       "      <td>...</td>\n",
       "    </tr>\n",
       "    <tr>\n",
       "      <th>345875</th>\n",
       "      <td>1</td>\n",
       "      <td>0</td>\n",
       "      <td>3.496508</td>\n",
       "      <td>1</td>\n",
       "      <td>0.187163</td>\n",
       "      <td>1</td>\n",
       "      <td>0</td>\n",
       "      <td>1</td>\n",
       "      <td>2630.000000</td>\n",
       "      <td>0.215458</td>\n",
       "      <td>177</td>\n",
       "    </tr>\n",
       "    <tr>\n",
       "      <th>640741</th>\n",
       "      <td>0</td>\n",
       "      <td>0</td>\n",
       "      <td>3.925672</td>\n",
       "      <td>1</td>\n",
       "      <td>0.098025</td>\n",
       "      <td>0</td>\n",
       "      <td>1</td>\n",
       "      <td>1</td>\n",
       "      <td>28765.120999</td>\n",
       "      <td>0.205020</td>\n",
       "      <td>33</td>\n",
       "    </tr>\n",
       "    <tr>\n",
       "      <th>117466</th>\n",
       "      <td>0</td>\n",
       "      <td>1</td>\n",
       "      <td>3.218876</td>\n",
       "      <td>1</td>\n",
       "      <td>0.062677</td>\n",
       "      <td>1</td>\n",
       "      <td>0</td>\n",
       "      <td>0</td>\n",
       "      <td>33717.000000</td>\n",
       "      <td>0.028624</td>\n",
       "      <td>150</td>\n",
       "    </tr>\n",
       "    <tr>\n",
       "      <th>426985</th>\n",
       "      <td>1</td>\n",
       "      <td>0</td>\n",
       "      <td>3.531779</td>\n",
       "      <td>1</td>\n",
       "      <td>0.143120</td>\n",
       "      <td>0</td>\n",
       "      <td>0</td>\n",
       "      <td>1</td>\n",
       "      <td>22051.305668</td>\n",
       "      <td>0.123766</td>\n",
       "      <td>75</td>\n",
       "    </tr>\n",
       "    <tr>\n",
       "      <th>591721</th>\n",
       "      <td>0</td>\n",
       "      <td>0</td>\n",
       "      <td>4.125077</td>\n",
       "      <td>1</td>\n",
       "      <td>0.064089</td>\n",
       "      <td>0</td>\n",
       "      <td>1</td>\n",
       "      <td>1</td>\n",
       "      <td>30347.116374</td>\n",
       "      <td>0.084990</td>\n",
       "      <td>74</td>\n",
       "    </tr>\n",
       "  </tbody>\n",
       "</table>\n",
       "<p>195381 rows × 11 columns</p>\n",
       "</div>"
      ],
      "text/plain": [
       "        Gender_Male  Gender_Female   Age_log  Driving_License  \\\n",
       "66271             0              1  3.850148                1   \n",
       "13524             0              1  3.258097                1   \n",
       "589837            0              1  3.769684                1   \n",
       "531015            0              0  3.442210                1   \n",
       "76665             1              0  3.583519                1   \n",
       "...             ...            ...       ...              ...   \n",
       "345875            1              0  3.496508                1   \n",
       "640741            0              0  3.925672                1   \n",
       "117466            0              1  3.218876                1   \n",
       "426985            1              0  3.531779                1   \n",
       "591721            0              0  4.125077                1   \n",
       "\n",
       "        Region_Code_Encoding  Previously_Insured  Vehicle_Age_Encoding  \\\n",
       "66271               0.127662                   1                     1   \n",
       "13524               0.062677                   1                     0   \n",
       "589837              0.101071                   0                     1   \n",
       "531015              0.173302                   0                     0   \n",
       "76665               0.187163                   0                     1   \n",
       "...                      ...                 ...                   ...   \n",
       "345875              0.187163                   1                     0   \n",
       "640741              0.098025                   0                     1   \n",
       "117466              0.062677                   1                     0   \n",
       "426985              0.143120                   0                     0   \n",
       "591721              0.064089                   0                     1   \n",
       "\n",
       "        Vehicle_Damage_Encoding  Annual_Premium  \\\n",
       "66271                         0    33902.000000   \n",
       "13524                         0    23055.000000   \n",
       "589837                        1    33409.548842   \n",
       "531015                        1    33717.028419   \n",
       "76665                         1    34961.000000   \n",
       "...                         ...             ...   \n",
       "345875                        1     2630.000000   \n",
       "640741                        1    28765.120999   \n",
       "117466                        0    33717.000000   \n",
       "426985                        1    22051.305668   \n",
       "591721                        1    30347.116374   \n",
       "\n",
       "        Policy_Sales_Channel_Encoding  Vintage  \n",
       "66271                        0.189148       48  \n",
       "13524                        0.028624      271  \n",
       "589837                       0.189148      236  \n",
       "531015                       0.176925      242  \n",
       "76665                        0.102515      281  \n",
       "...                               ...      ...  \n",
       "345875                       0.215458      177  \n",
       "640741                       0.205020       33  \n",
       "117466                       0.028624      150  \n",
       "426985                       0.123766       75  \n",
       "591721                       0.084990       74  \n",
       "\n",
       "[195381 rows x 11 columns]"
      ]
     },
     "execution_count": 13,
     "metadata": {},
     "output_type": "execute_result"
    }
   ],
   "source": [
    "X_test"
   ]
  },
  {
   "cell_type": "code",
   "execution_count": 14,
   "metadata": {
    "ExecuteTime": {
     "end_time": "2021-02-12T21:54:57.362016Z",
     "start_time": "2021-02-12T21:54:57.355035Z"
    },
    "scrolled": false
   },
   "outputs": [
    {
     "data": {
      "text/plain": [
       "66271     0\n",
       "13524     0\n",
       "589837    1\n",
       "531015    1\n",
       "76665     0\n",
       "         ..\n",
       "345875    0\n",
       "640741    1\n",
       "117466    0\n",
       "426985    1\n",
       "591721    1\n",
       "Name: Response, Length: 195381, dtype: int64"
      ]
     },
     "execution_count": 14,
     "metadata": {},
     "output_type": "execute_result"
    }
   ],
   "source": [
    "y_test"
   ]
  },
  {
   "cell_type": "markdown",
   "metadata": {},
   "source": [
    "# Standardization Scaling"
   ]
  },
  {
   "cell_type": "code",
   "execution_count": 15,
   "metadata": {
    "ExecuteTime": {
     "end_time": "2021-02-12T21:54:57.368997Z",
     "start_time": "2021-02-12T21:54:57.364011Z"
    }
   },
   "outputs": [],
   "source": [
    "col_name = [\n",
    "    'Gender_Male', 'Gender_Female',\n",
    "    'Age_log',\n",
    "    'Driving_License',\n",
    "    'Region_Code_Encoding',\n",
    "    'Previously_Insured',\n",
    "    'Vehicle_Age_Encoding',\n",
    "    'Vehicle_Damage_Encoding',\n",
    "    'Annual_Premium',\n",
    "    'Policy_Sales_Channel_Encoding',\n",
    "    'Vintage'\n",
    "]"
   ]
  },
  {
   "cell_type": "code",
   "execution_count": 16,
   "metadata": {
    "ExecuteTime": {
     "end_time": "2021-02-12T21:54:57.550511Z",
     "start_time": "2021-02-12T21:54:57.370992Z"
    }
   },
   "outputs": [],
   "source": [
    "scaler = StandardScaler().fit(X_train.values)"
   ]
  },
  {
   "cell_type": "code",
   "execution_count": 17,
   "metadata": {
    "ExecuteTime": {
     "end_time": "2021-02-12T21:54:57.559489Z",
     "start_time": "2021-02-12T21:54:57.552507Z"
    }
   },
   "outputs": [
    {
     "name": "stdout",
     "output_type": "stream",
     "text": [
      "Standardization Mean: [4.86552589e-01 3.47783552e-01 3.64240299e+00 9.98102600e-01\n",
      " 1.28793694e-01 2.61562624e-01 6.72660111e-01 7.01621235e-01\n",
      " 2.95786113e+04 1.48542549e-01 1.53999057e+02]\n",
      "Standardization Var: [2.49819167e-01 2.26830153e-01 1.17741949e-01 1.89379989e-03\n",
      " 1.85531166e-03 1.93147618e-01 2.79075886e-01 2.09348878e-01\n",
      " 2.28281329e+08 6.28913689e-03 6.95180169e+03]\n"
     ]
    }
   ],
   "source": [
    "std_means = scaler.mean_\n",
    "print('Standardization Mean:', std_means)\n",
    "\n",
    "std_vars = scaler.var_\n",
    "print('Standardization Var:', std_vars)"
   ]
  },
  {
   "cell_type": "markdown",
   "metadata": {},
   "source": [
    "### Dataset Train"
   ]
  },
  {
   "cell_type": "code",
   "execution_count": 18,
   "metadata": {
    "ExecuteTime": {
     "end_time": "2021-02-12T21:54:57.645259Z",
     "start_time": "2021-02-12T21:54:57.561483Z"
    }
   },
   "outputs": [],
   "source": [
    "X_train_scaled = scaler.transform(X_train.values)"
   ]
  },
  {
   "cell_type": "code",
   "execution_count": 19,
   "metadata": {
    "ExecuteTime": {
     "end_time": "2021-02-12T21:54:57.654235Z",
     "start_time": "2021-02-12T21:54:57.648251Z"
    }
   },
   "outputs": [
    {
     "data": {
      "text/plain": [
       "array([[ 1.02726642, -0.73022828,  0.20740809, ...,  0.0225289 ,\n",
       "         0.51202116, -0.19188706],\n",
       "       [ 1.02726642, -0.73022828, -1.4772847 , ...,  0.15655514,\n",
       "        -1.51214131, -0.14391247],\n",
       "       [ 1.02726642, -0.73022828,  0.49064392, ...,  0.73250395,\n",
       "         0.58556281,  0.91152859],\n",
       "       ...,\n",
       "       [ 1.02726642, -0.73022828,  0.13544639, ..., -0.39490492,\n",
       "         0.51202116,  0.68364927],\n",
       "       [-0.97345731,  1.36943478,  1.59485626, ...,  1.31851299,\n",
       "         0.6411101 , -0.47973462],\n",
       "       [-0.97345731,  1.36943478,  1.50517839, ...,  1.43612515,\n",
       "        -0.43692814, -1.19935353]])"
      ]
     },
     "execution_count": 19,
     "metadata": {},
     "output_type": "execute_result"
    }
   ],
   "source": [
    "X_train_scaled"
   ]
  },
  {
   "cell_type": "markdown",
   "metadata": {},
   "source": [
    "### Dataset Test"
   ]
  },
  {
   "cell_type": "code",
   "execution_count": 20,
   "metadata": {
    "ExecuteTime": {
     "end_time": "2021-02-12T21:54:57.697119Z",
     "start_time": "2021-02-12T21:54:57.656230Z"
    }
   },
   "outputs": [],
   "source": [
    "X_test_scaled = scaler.transform(X_test.values)"
   ]
  },
  {
   "cell_type": "code",
   "execution_count": 21,
   "metadata": {
    "ExecuteTime": {
     "end_time": "2021-02-12T21:54:57.705099Z",
     "start_time": "2021-02-12T21:54:57.699114Z"
    }
   },
   "outputs": [
    {
     "data": {
      "text/plain": [
       "array([[-0.97345731,  1.36943478,  0.6054303 , ...,  0.28614693,\n",
       "         0.51202116, -1.27131542],\n",
       "       [-0.97345731,  1.36943478, -1.11998464, ..., -0.43177041,\n",
       "        -1.51214131,  1.40326817],\n",
       "       [-0.97345731,  1.36943478,  0.37093541, ...,  0.25355366,\n",
       "         0.51202116,  0.98349048],\n",
       "       ...,\n",
       "       [-0.97345731,  1.36943478, -1.2342856 , ...,  0.27390256,\n",
       "        -1.51214131, -0.04796328],\n",
       "       [ 1.02726642, -0.73022828, -0.3223914 , ..., -0.49820072,\n",
       "        -0.31243033, -0.94748691],\n",
       "       [-0.97345731, -0.73022828,  1.40665786, ...,  0.05086412,\n",
       "        -0.80137463, -0.95948056]])"
      ]
     },
     "execution_count": 21,
     "metadata": {},
     "output_type": "execute_result"
    }
   ],
   "source": [
    "X_test_scaled"
   ]
  },
  {
   "cell_type": "markdown",
   "metadata": {},
   "source": [
    "# Stage 3"
   ]
  },
  {
   "cell_type": "markdown",
   "metadata": {},
   "source": [
    "## Random Forest"
   ]
  },
  {
   "cell_type": "markdown",
   "metadata": {},
   "source": [
    "### Fit Training Data"
   ]
  },
  {
   "cell_type": "code",
   "execution_count": 22,
   "metadata": {
    "ExecuteTime": {
     "end_time": "2021-02-12T21:56:36.075981Z",
     "start_time": "2021-02-12T21:54:57.708090Z"
    }
   },
   "outputs": [
    {
     "data": {
      "text/plain": [
       "RandomForestClassifier(random_state=42)"
      ]
     },
     "execution_count": 22,
     "metadata": {},
     "output_type": "execute_result"
    }
   ],
   "source": [
    "rf = RandomForestClassifier(random_state = 42)\n",
    "rf = rf.fit(X_train_scaled, y_train)\n",
    "rf"
   ]
  },
  {
   "cell_type": "markdown",
   "metadata": {},
   "source": [
    "### Predict Testing Data"
   ]
  },
  {
   "cell_type": "code",
   "execution_count": 23,
   "metadata": {
    "ExecuteTime": {
     "end_time": "2021-02-12T21:56:41.596049Z",
     "start_time": "2021-02-12T21:56:36.082936Z"
    }
   },
   "outputs": [],
   "source": [
    "test_predicted_rf = rf.predict(X_test_scaled)"
   ]
  },
  {
   "cell_type": "markdown",
   "metadata": {},
   "source": [
    "### Model Evaluation"
   ]
  },
  {
   "cell_type": "markdown",
   "metadata": {},
   "source": [
    "#### Test"
   ]
  },
  {
   "cell_type": "code",
   "execution_count": 24,
   "metadata": {
    "ExecuteTime": {
     "end_time": "2021-02-12T21:56:42.263807Z",
     "start_time": "2021-02-12T21:56:41.596049Z"
    }
   },
   "outputs": [
    {
     "name": "stdout",
     "output_type": "stream",
     "text": [
      "\u001b[1mRandom Forest\u001b[0;0m\n",
      "\n",
      "Confusion Matrix: Testing Data\n",
      " [[91077  6507]\n",
      " [10545 87252]]\n",
      "\n",
      "ROC AUC Score: Testing Data\n",
      " 0.9127467966510792\n",
      "\n",
      "Accuracy: Testing Data\n",
      " 0.9127243693091959\n",
      "\n",
      "Classification Report: Testing Data\n",
      "               precision    recall  f1-score   support\n",
      "\n",
      "           0   0.896233  0.933319  0.914400     97584\n",
      "           1   0.930599  0.892175  0.910982     97797\n",
      "\n",
      "    accuracy                       0.912724    195381\n",
      "   macro avg   0.913416  0.912747  0.912691    195381\n",
      "weighted avg   0.913435  0.912724  0.912689    195381\n",
      "\n"
     ]
    }
   ],
   "source": [
    "print('\\033[1mRandom Forest\\033[0;0m')\n",
    "\n",
    "print('\\nConfusion Matrix: Testing Data\\n', confusion_matrix(y_test, test_predicted_rf))\n",
    "\n",
    "print('\\nROC AUC Score: Testing Data\\n', roc_auc_score(y_test, test_predicted_rf))\n",
    "\n",
    "print('\\nAccuracy: Testing Data\\n', accuracy_score(y_test, test_predicted_rf))\n",
    "\n",
    "print('\\nClassification Report: Testing Data\\n', classification_report(y_test, test_predicted_rf, digits = 6))"
   ]
  },
  {
   "cell_type": "markdown",
   "metadata": {},
   "source": [
    "#### Train"
   ]
  },
  {
   "cell_type": "code",
   "execution_count": 25,
   "metadata": {
    "ExecuteTime": {
     "end_time": "2021-02-12T21:56:54.324075Z",
     "start_time": "2021-02-12T21:56:42.265802Z"
    }
   },
   "outputs": [],
   "source": [
    "train_predicted_rf = rf.predict(X_train_scaled)"
   ]
  },
  {
   "cell_type": "code",
   "execution_count": 26,
   "metadata": {
    "ExecuteTime": {
     "end_time": "2021-02-12T21:56:55.738766Z",
     "start_time": "2021-02-12T21:56:54.326005Z"
    }
   },
   "outputs": [
    {
     "name": "stdout",
     "output_type": "stream",
     "text": [
      "\u001b[1mRandom Forest\u001b[0;0m\n",
      "\n",
      "Confusion Matrix: Training Data\n",
      " [[228041      9]\n",
      " [    21 227816]]\n",
      "\n",
      "ROC AUC Score: Training Data\n",
      " 0.9999341819064754\n",
      "\n",
      "Accuracy: Training Data\n",
      " 0.9999341942191815\n",
      "\n",
      "Classification Report: Training Data\n",
      "               precision    recall  f1-score   support\n",
      "\n",
      "           0   0.999908  0.999961  0.999934    228050\n",
      "           1   0.999960  0.999908  0.999934    227837\n",
      "\n",
      "    accuracy                       0.999934    455887\n",
      "   macro avg   0.999934  0.999934  0.999934    455887\n",
      "weighted avg   0.999934  0.999934  0.999934    455887\n",
      "\n"
     ]
    }
   ],
   "source": [
    "print('\\033[1mRandom Forest\\033[0;0m')\n",
    "\n",
    "print('\\nConfusion Matrix: Training Data\\n', confusion_matrix(y_train, train_predicted_rf))\n",
    "\n",
    "print('\\nROC AUC Score: Training Data\\n', roc_auc_score(y_train, train_predicted_rf))\n",
    "\n",
    "print('\\nAccuracy: Training Data\\n', accuracy_score(y_train, train_predicted_rf))\n",
    "\n",
    "print('\\nClassification Report: Training Data\\n', classification_report(y_train, train_predicted_rf, digits = 6))"
   ]
  },
  {
   "cell_type": "markdown",
   "metadata": {},
   "source": [
    "### Feature Importance"
   ]
  },
  {
   "cell_type": "code",
   "execution_count": 27,
   "metadata": {
    "ExecuteTime": {
     "end_time": "2021-02-12T21:56:56.751479Z",
     "start_time": "2021-02-12T21:56:55.740789Z"
    }
   },
   "outputs": [
    {
     "data": {
      "image/png": "[encoded data removed]",
      "text/plain": [
       "<Figure size 1490.4x864 with 1 Axes>"
      ]
     },
     "metadata": {},
     "output_type": "display_data"
    }
   ],
   "source": [
    "feature_importances = pd.Series(rf.feature_importances_, index = X.columns)\n",
    "\n",
    "plt.figure(figsize = (20.7, 12))\n",
    "ax = feature_importances.nlargest(11).plot(kind = 'barh')\n",
    "ax.invert_yaxis()\n",
    "\n",
    "plt.xticks(fontsize = 16)\n",
    "plt.yticks(fontsize = 16)\n",
    "plt.xlabel('score', fontsize = 14)\n",
    "plt.ylabel('feature', fontsize = 14)\n",
    "plt.title('Random Forest\\nFeature Importance Score', fontsize = 24, fontweight = 'bold')\n",
    "\n",
    "plt.tight_layout()"
   ]
  },
  {
   "cell_type": "markdown",
   "metadata": {},
   "source": [
    "## Decision Tree"
   ]
  },
  {
   "cell_type": "markdown",
   "metadata": {},
   "source": [
    "### Fit Training Data"
   ]
  },
  {
   "cell_type": "code",
   "execution_count": 28,
   "metadata": {
    "ExecuteTime": {
     "end_time": "2021-02-12T21:57:00.254660Z",
     "start_time": "2021-02-12T21:56:56.753443Z"
    }
   },
   "outputs": [
    {
     "data": {
      "text/plain": [
       "DecisionTreeClassifier(random_state=42)"
      ]
     },
     "execution_count": 28,
     "metadata": {},
     "output_type": "execute_result"
    }
   ],
   "source": [
    "dt = DecisionTreeClassifier(random_state = 42)\n",
    "dt = dt.fit(X_train_scaled, y_train)\n",
    "dt"
   ]
  },
  {
   "cell_type": "markdown",
   "metadata": {},
   "source": [
    "### Predict Testing Data"
   ]
  },
  {
   "cell_type": "code",
   "execution_count": 29,
   "metadata": {
    "ExecuteTime": {
     "end_time": "2021-02-12T21:57:00.316525Z",
     "start_time": "2021-02-12T21:57:00.256653Z"
    }
   },
   "outputs": [],
   "source": [
    "test_predicted_dt = dt.predict(X_test_scaled)"
   ]
  },
  {
   "cell_type": "markdown",
   "metadata": {},
   "source": [
    "### Model Evaluation"
   ]
  },
  {
   "cell_type": "markdown",
   "metadata": {},
   "source": [
    "#### Test"
   ]
  },
  {
   "cell_type": "code",
   "execution_count": 30,
   "metadata": {
    "ExecuteTime": {
     "end_time": "2021-02-12T21:57:01.018615Z",
     "start_time": "2021-02-12T21:57:00.317492Z"
    }
   },
   "outputs": [
    {
     "name": "stdout",
     "output_type": "stream",
     "text": [
      "\u001b[1mDecision Tree\u001b[0;0m\n",
      "\n",
      "Confusion Matrix: Testing Data\n",
      " [[86825 10759]\n",
      " [ 9941 87856]]\n",
      "\n",
      "ROC AUC Score: Testing Data\n",
      " 0.894048467516818\n",
      "\n",
      "Accuracy: Testing Data\n",
      " 0.8940531576765397\n",
      "\n",
      "Classification Report: Testing Data\n",
      "               precision    recall  f1-score   support\n",
      "\n",
      "           0   0.897268  0.889746  0.893491     97584\n",
      "           1   0.890899  0.898351  0.894609     97797\n",
      "\n",
      "    accuracy                       0.894053    195381\n",
      "   macro avg   0.894083  0.894048  0.894050    195381\n",
      "weighted avg   0.894080  0.894053  0.894051    195381\n",
      "\n"
     ]
    }
   ],
   "source": [
    "print('\\033[1mDecision Tree\\033[0;0m')\n",
    "\n",
    "print('\\nConfusion Matrix: Testing Data\\n', confusion_matrix(y_test, test_predicted_dt))\n",
    "\n",
    "print('\\nROC AUC Score: Testing Data\\n', roc_auc_score(y_test, test_predicted_dt))\n",
    "\n",
    "print('\\nAccuracy: Testing Data\\n', accuracy_score(y_test, test_predicted_dt))\n",
    "\n",
    "print('\\nClassification Report: Testing Data\\n', classification_report(y_test, test_predicted_dt, digits = 6))"
   ]
  },
  {
   "cell_type": "markdown",
   "metadata": {},
   "source": [
    "#### Train"
   ]
  },
  {
   "cell_type": "code",
   "execution_count": 31,
   "metadata": {
    "ExecuteTime": {
     "end_time": "2021-02-12T21:57:01.162231Z",
     "start_time": "2021-02-12T21:57:01.021608Z"
    }
   },
   "outputs": [],
   "source": [
    "train_predicted_dt = dt.predict(X_train_scaled)"
   ]
  },
  {
   "cell_type": "code",
   "execution_count": 32,
   "metadata": {
    "ExecuteTime": {
     "end_time": "2021-02-12T21:57:02.998861Z",
     "start_time": "2021-02-12T21:57:01.164225Z"
    }
   },
   "outputs": [
    {
     "name": "stdout",
     "output_type": "stream",
     "text": [
      "\u001b[1mDecision Tree\u001b[0;0m\n",
      "\n",
      "Confusion Matrix: Training Data\n",
      " [[228050      0]\n",
      " [    27 227810]]\n",
      "\n",
      "ROC AUC Score: Training Data\n",
      " 0.9999407471130677\n",
      "\n",
      "Accuracy: Training Data\n",
      " 0.9999407747972634\n",
      "\n",
      "Classification Report: Training Data\n",
      "               precision    recall  f1-score   support\n",
      "\n",
      "           0   0.999882  1.000000  0.999941    228050\n",
      "           1   1.000000  0.999881  0.999941    227837\n",
      "\n",
      "    accuracy                       0.999941    455887\n",
      "   macro avg   0.999941  0.999941  0.999941    455887\n",
      "weighted avg   0.999941  0.999941  0.999941    455887\n",
      "\n"
     ]
    }
   ],
   "source": [
    "print('\\033[1mDecision Tree\\033[0;0m')\n",
    "\n",
    "print('\\nConfusion Matrix: Training Data\\n', confusion_matrix(y_train, train_predicted_dt))\n",
    "\n",
    "print('\\nROC AUC Score: Training Data\\n', roc_auc_score(y_train, train_predicted_dt))\n",
    "\n",
    "print('\\nAccuracy: Training Data\\n', accuracy_score(y_train, train_predicted_dt))\n",
    "\n",
    "print('\\nClassification Report: Training Data\\n', classification_report(y_train, train_predicted_dt, digits = 6))"
   ]
  },
  {
   "cell_type": "markdown",
   "metadata": {},
   "source": [
    "### Feature Importance"
   ]
  },
  {
   "cell_type": "code",
   "execution_count": 33,
   "metadata": {
    "ExecuteTime": {
     "end_time": "2021-02-12T21:57:03.491541Z",
     "start_time": "2021-02-12T21:57:03.000854Z"
    },
    "scrolled": false
   },
   "outputs": [
    {
     "data": {
      "image/png": "[encoded data removed]",
      "text/plain": [
       "<Figure size 1490.4x864 with 1 Axes>"
      ]
     },
     "metadata": {},
     "output_type": "display_data"
    }
   ],
   "source": [
    "feature_importances = pd.Series(dt.feature_importances_, index = X.columns)\n",
    "\n",
    "plt.figure(figsize = (20.7, 12))\n",
    "ax = feature_importances.nlargest(11).plot(kind = 'barh')\n",
    "ax.invert_yaxis()\n",
    "\n",
    "plt.xticks(fontsize = 16)\n",
    "plt.yticks(fontsize = 16)\n",
    "plt.xlabel('score', fontsize = 14)\n",
    "plt.ylabel('feature', fontsize = 14)\n",
    "plt.title('Decision Tree\\nFeature Importance Score', fontsize = 24, fontweight = 'bold')\n",
    "\n",
    "plt.tight_layout()"
   ]
  },
  {
   "cell_type": "markdown",
   "metadata": {},
   "source": [
    "## XGBoost"
   ]
  },
  {
   "cell_type": "markdown",
   "metadata": {},
   "source": [
    "### Fit Training Data"
   ]
  },
  {
   "cell_type": "code",
   "execution_count": 34,
   "metadata": {
    "ExecuteTime": {
     "end_time": "2021-02-12T21:57:41.777013Z",
     "start_time": "2021-02-12T21:57:03.494534Z"
    }
   },
   "outputs": [
    {
     "data": {
      "text/plain": [
       "XGBClassifier(base_score=0.5, booster='gbtree', colsample_bylevel=1,\n",
       "              colsample_bynode=1, colsample_bytree=1, eval_metric='auc',\n",
       "              gamma=0, gpu_id=-1, importance_type='gain',\n",
       "              interaction_constraints='', learning_rate=0.300000012,\n",
       "              max_delta_step=0, max_depth=6, min_child_weight=1, missing=nan,\n",
       "              monotone_constraints='()', n_estimators=100, n_jobs=4,\n",
       "              num_parallel_tree=1, random_state=42, reg_alpha=0, reg_lambda=1,\n",
       "              scale_pos_weight=1, subsample=1, tree_method='exact',\n",
       "              use_label_encoder=False, validate_parameters=1, verbosity=None)"
      ]
     },
     "execution_count": 34,
     "metadata": {},
     "output_type": "execute_result"
    }
   ],
   "source": [
    "xgb = XGBClassifier(random_state = 42, eval_metric = 'auc', use_label_encoder = False)\n",
    "xgb = xgb.fit(X_train_scaled, y_train)\n",
    "xgb"
   ]
  },
  {
   "cell_type": "markdown",
   "metadata": {},
   "source": [
    "### Predict Testing Data"
   ]
  },
  {
   "cell_type": "code",
   "execution_count": 35,
   "metadata": {
    "ExecuteTime": {
     "end_time": "2021-02-12T21:57:42.116508Z",
     "start_time": "2021-02-12T21:57:41.780006Z"
    }
   },
   "outputs": [],
   "source": [
    "test_predicted_xgb = xgb.predict(X_test_scaled)"
   ]
  },
  {
   "cell_type": "markdown",
   "metadata": {},
   "source": [
    "### Model Evaluation"
   ]
  },
  {
   "cell_type": "markdown",
   "metadata": {},
   "source": [
    "#### Test"
   ]
  },
  {
   "cell_type": "code",
   "execution_count": 36,
   "metadata": {
    "ExecuteTime": {
     "end_time": "2021-02-12T21:57:42.986275Z",
     "start_time": "2021-02-12T21:57:42.118502Z"
    }
   },
   "outputs": [
    {
     "name": "stdout",
     "output_type": "stream",
     "text": [
      "\u001b[1mXGBoost\u001b[0;0m\n",
      "\n",
      "Confusion Matrix: Testing Data\n",
      " [[96216  1368]\n",
      " [12783 85014]]\n",
      "\n",
      "ROC AUC Score: Testing Data\n",
      " 0.9276358887220038\n",
      "\n",
      "Accuracy: Testing Data\n",
      " 0.9275722818493098\n",
      "\n",
      "Classification Report: Testing Data\n",
      "               precision    recall  f1-score   support\n",
      "\n",
      "           0   0.882724  0.985981  0.931500     97584\n",
      "           1   0.984163  0.869290  0.923167     97797\n",
      "\n",
      "    accuracy                       0.927572    195381\n",
      "   macro avg   0.933444  0.927636  0.927333    195381\n",
      "weighted avg   0.933499  0.927572  0.927329    195381\n",
      "\n"
     ]
    }
   ],
   "source": [
    "print('\\033[1mXGBoost\\033[0;0m')\n",
    "\n",
    "print('\\nConfusion Matrix: Testing Data\\n', confusion_matrix(y_test, test_predicted_xgb))\n",
    "\n",
    "print('\\nROC AUC Score: Testing Data\\n', roc_auc_score(y_test, test_predicted_xgb))\n",
    "\n",
    "print('\\nAccuracy: Testing Data\\n', accuracy_score(y_test, test_predicted_xgb))\n",
    "\n",
    "print('\\nClassification Report: Testing Data\\n', classification_report(y_test, test_predicted_xgb, digits = 6))"
   ]
  },
  {
   "cell_type": "markdown",
   "metadata": {},
   "source": [
    "#### Train"
   ]
  },
  {
   "cell_type": "code",
   "execution_count": 37,
   "metadata": {
    "ExecuteTime": {
     "end_time": "2021-02-12T21:57:43.661517Z",
     "start_time": "2021-02-12T21:57:42.989266Z"
    }
   },
   "outputs": [],
   "source": [
    "train_predicted_xgb = xgb.predict(X_train_scaled)"
   ]
  },
  {
   "cell_type": "code",
   "execution_count": 38,
   "metadata": {
    "ExecuteTime": {
     "end_time": "2021-02-12T21:57:45.563744Z",
     "start_time": "2021-02-12T21:57:43.664509Z"
    }
   },
   "outputs": [
    {
     "name": "stdout",
     "output_type": "stream",
     "text": [
      "\u001b[1mXGBoost\u001b[0;0m\n",
      "\n",
      "Confusion Matrix: Training Data\n",
      " [[225449   2601]\n",
      " [ 29644 198193]]\n",
      "\n",
      "ROC AUC Score: Training Data\n",
      " 0.929242022474021\n",
      "\n",
      "Accuracy: Training Data\n",
      " 0.9292697532502572\n",
      "\n",
      "Classification Report: Training Data\n",
      "               precision    recall  f1-score   support\n",
      "\n",
      "           0   0.883791  0.988595  0.933260    228050\n",
      "           1   0.987046  0.869889  0.924772    227837\n",
      "\n",
      "    accuracy                       0.929270    455887\n",
      "   macro avg   0.935419  0.929242  0.929016    455887\n",
      "weighted avg   0.935395  0.929270  0.929018    455887\n",
      "\n"
     ]
    }
   ],
   "source": [
    "print('\\033[1mXGBoost\\033[0;0m')\n",
    "\n",
    "print('\\nConfusion Matrix: Training Data\\n', confusion_matrix(y_train, train_predicted_xgb))\n",
    "\n",
    "print('\\nROC AUC Score: Training Data\\n', roc_auc_score(y_train, train_predicted_xgb))\n",
    "\n",
    "print('\\nAccuracy: Training Data\\n', accuracy_score(y_train, train_predicted_xgb))\n",
    "\n",
    "print('\\nClassification Report: Training Data\\n', classification_report(y_train, train_predicted_xgb, digits = 6))"
   ]
  },
  {
   "cell_type": "markdown",
   "metadata": {},
   "source": [
    "### Feature Importance"
   ]
  },
  {
   "cell_type": "code",
   "execution_count": 39,
   "metadata": {
    "ExecuteTime": {
     "end_time": "2021-02-12T21:57:46.246915Z",
     "start_time": "2021-02-12T21:57:45.565738Z"
    },
    "scrolled": false
   },
   "outputs": [
    {
     "data": {
      "image/png": "[encoded data removed]",
      "text/plain": [
       "<Figure size 1490.4x864 with 1 Axes>"
      ]
     },
     "metadata": {},
     "output_type": "display_data"
    }
   ],
   "source": [
    "feature_importances = pd.Series(xgb.feature_importances_, index = X.columns)\n",
    "\n",
    "plt.figure(figsize = (20.7, 12))\n",
    "ax = feature_importances.nlargest(11).plot(kind = 'barh')\n",
    "ax.invert_yaxis()\n",
    "\n",
    "plt.xticks(fontsize = 16)\n",
    "plt.yticks(fontsize = 16)\n",
    "plt.xlabel('score', fontsize = 14)\n",
    "plt.ylabel('feature', fontsize = 14)\n",
    "plt.title('XGBoost\\nFeature Importance Score', fontsize = 24, fontweight = 'bold')\n",
    "\n",
    "plt.tight_layout()"
   ]
  },
  {
   "cell_type": "markdown",
   "metadata": {},
   "source": [
    "## Logistic Regression"
   ]
  },
  {
   "cell_type": "markdown",
   "metadata": {},
   "source": [
    "### Fit Training Data"
   ]
  },
  {
   "cell_type": "code",
   "execution_count": 40,
   "metadata": {
    "ExecuteTime": {
     "end_time": "2021-02-12T21:57:48.844699Z",
     "start_time": "2021-02-12T21:57:46.249908Z"
    }
   },
   "outputs": [
    {
     "data": {
      "text/plain": [
       "LogisticRegression(random_state=42)"
      ]
     },
     "execution_count": 40,
     "metadata": {},
     "output_type": "execute_result"
    }
   ],
   "source": [
    "logreg = LogisticRegression(random_state = 42)\n",
    "logreg = logreg.fit(X_train_scaled, y_train)\n",
    "logreg"
   ]
  },
  {
   "cell_type": "markdown",
   "metadata": {},
   "source": [
    "### Predict Testing Data"
   ]
  },
  {
   "cell_type": "code",
   "execution_count": 41,
   "metadata": {
    "ExecuteTime": {
     "end_time": "2021-02-12T21:57:48.865644Z",
     "start_time": "2021-02-12T21:57:48.847694Z"
    }
   },
   "outputs": [],
   "source": [
    "test_predicted_logreg = logreg.predict(X_test_scaled)"
   ]
  },
  {
   "cell_type": "markdown",
   "metadata": {},
   "source": [
    "### Model Evaluation"
   ]
  },
  {
   "cell_type": "markdown",
   "metadata": {},
   "source": [
    "#### Test"
   ]
  },
  {
   "cell_type": "code",
   "execution_count": 42,
   "metadata": {
    "ExecuteTime": {
     "end_time": "2021-02-12T21:57:49.691436Z",
     "start_time": "2021-02-12T21:57:48.868636Z"
    }
   },
   "outputs": [
    {
     "name": "stdout",
     "output_type": "stream",
     "text": [
      "\u001b[1mLogistic Regression\u001b[0;0m\n",
      "\n",
      "Confusion Matrix: Testing Data\n",
      " [[72308 25276]\n",
      " [ 9494 88303]]\n",
      "\n",
      "ROC AUC Score: Testing Data\n",
      " 0.8219517428617974\n",
      "\n",
      "Accuracy: Testing Data\n",
      " 0.8220400141262456\n",
      "\n",
      "Classification Report: Testing Data\n",
      "               precision    recall  f1-score   support\n",
      "\n",
      "           0   0.883939  0.740982  0.806172     97584\n",
      "           1   0.777459  0.902921  0.835506     97797\n",
      "\n",
      "    accuracy                       0.822040    195381\n",
      "   macro avg   0.830699  0.821952  0.820839    195381\n",
      "weighted avg   0.830641  0.822040  0.820855    195381\n",
      "\n"
     ]
    }
   ],
   "source": [
    "print('\\033[1mLogistic Regression\\033[0;0m')\n",
    "\n",
    "print('\\nConfusion Matrix: Testing Data\\n', confusion_matrix(y_test, test_predicted_logreg))\n",
    "\n",
    "print('\\nROC AUC Score: Testing Data\\n', roc_auc_score(y_test, test_predicted_logreg))\n",
    "\n",
    "print('\\nAccuracy: Testing Data\\n', accuracy_score(y_test, test_predicted_logreg))\n",
    "\n",
    "print('\\nClassification Report: Testing Data\\n', classification_report(y_test, test_predicted_logreg, digits = 6))"
   ]
  },
  {
   "cell_type": "markdown",
   "metadata": {},
   "source": [
    "#### Train"
   ]
  },
  {
   "cell_type": "code",
   "execution_count": 43,
   "metadata": {
    "ExecuteTime": {
     "end_time": "2021-02-12T21:57:49.727337Z",
     "start_time": "2021-02-12T21:57:49.694427Z"
    }
   },
   "outputs": [],
   "source": [
    "train_predicted_logreg = logreg.predict(X_train_scaled)"
   ]
  },
  {
   "cell_type": "code",
   "execution_count": 44,
   "metadata": {
    "ExecuteTime": {
     "end_time": "2021-02-12T21:57:51.539409Z",
     "start_time": "2021-02-12T21:57:49.729333Z"
    }
   },
   "outputs": [
    {
     "name": "stdout",
     "output_type": "stream",
     "text": [
      "\u001b[1mLogistic Regression\u001b[0;0m\n",
      "\n",
      "Confusion Matrix: Training Data\n",
      " [[168326  59724]\n",
      " [ 21712 206125]]\n",
      "\n",
      "ROC AUC Score: Training Data\n",
      " 0.8214069324922137\n",
      "\n",
      "Accuracy: Training Data\n",
      " 0.8213680144421753\n",
      "\n",
      "Classification Report: Training Data\n",
      "               precision    recall  f1-score   support\n",
      "\n",
      "           0   0.885749  0.738110  0.805218    228050\n",
      "           1   0.775346  0.904704  0.835045    227837\n",
      "\n",
      "    accuracy                       0.821368    455887\n",
      "   macro avg   0.830548  0.821407  0.820131    455887\n",
      "weighted avg   0.830573  0.821368  0.820125    455887\n",
      "\n"
     ]
    }
   ],
   "source": [
    "print('\\033[1mLogistic Regression\\033[0;0m')\n",
    "\n",
    "print('\\nConfusion Matrix: Training Data\\n', confusion_matrix(y_train, train_predicted_logreg))\n",
    "\n",
    "print('\\nROC AUC Score: Training Data\\n', roc_auc_score(y_train, train_predicted_logreg))\n",
    "\n",
    "print('\\nAccuracy: Training Data\\n', accuracy_score(y_train, train_predicted_logreg))\n",
    "\n",
    "print('\\nClassification Report: Training Data\\n', classification_report(y_train, train_predicted_logreg, digits = 6))"
   ]
  },
  {
   "cell_type": "markdown",
   "metadata": {},
   "source": [
    "## K-Nearest Neighbors"
   ]
  },
  {
   "cell_type": "markdown",
   "metadata": {},
   "source": [
    "### Fit Training Data"
   ]
  },
  {
   "cell_type": "code",
   "execution_count": 45,
   "metadata": {
    "ExecuteTime": {
     "end_time": "2021-02-12T22:12:19.245839Z",
     "start_time": "2021-02-12T21:57:51.541404Z"
    }
   },
   "outputs": [
    {
     "data": {
      "text/plain": [
       "KNeighborsClassifier(n_jobs=-1)"
      ]
     },
     "execution_count": 45,
     "metadata": {},
     "output_type": "execute_result"
    }
   ],
   "source": [
    "knn = KNeighborsClassifier(n_jobs = -1)\n",
    "knn = knn.fit(X_train_scaled, y_train)\n",
    "knn"
   ]
  },
  {
   "cell_type": "markdown",
   "metadata": {},
   "source": [
    "### Predict Testing Data"
   ]
  },
  {
   "cell_type": "code",
   "execution_count": 46,
   "metadata": {
    "ExecuteTime": {
     "end_time": "2021-02-12T22:14:37.744599Z",
     "start_time": "2021-02-12T22:12:19.247835Z"
    }
   },
   "outputs": [],
   "source": [
    "test_predicted_knn = knn.predict(X_test_scaled)"
   ]
  },
  {
   "cell_type": "markdown",
   "metadata": {},
   "source": [
    "### Model Evaluation"
   ]
  },
  {
   "cell_type": "markdown",
   "metadata": {},
   "source": [
    "#### Test"
   ]
  },
  {
   "cell_type": "code",
   "execution_count": 47,
   "metadata": {
    "ExecuteTime": {
     "end_time": "2021-02-12T22:14:38.782345Z",
     "start_time": "2021-02-12T22:14:37.744599Z"
    }
   },
   "outputs": [
    {
     "name": "stdout",
     "output_type": "stream",
     "text": [
      "\u001b[1mK-Nearest Neighbors\u001b[0;0m\n",
      "\n",
      "Confusion Matrix: Testing Data\n",
      " [[80829 16755]\n",
      " [11891 85906]]\n",
      "\n",
      "ROC AUC Score: Testing Data\n",
      " 0.8533565869974364\n",
      "\n",
      "Accuracy: Testing Data\n",
      " 0.8533839011981718\n",
      "\n",
      "Classification Report: Testing Data\n",
      "               precision    recall  f1-score   support\n",
      "\n",
      "           0   0.871754  0.828302  0.849472     97584\n",
      "           1   0.836793  0.878411  0.857097     97797\n",
      "\n",
      "    accuracy                       0.853384    195381\n",
      "   macro avg   0.854273  0.853357  0.853285    195381\n",
      "weighted avg   0.854254  0.853384  0.853289    195381\n",
      "\n"
     ]
    }
   ],
   "source": [
    "print('\\033[1mK-Nearest Neighbors\\033[0;0m')\n",
    "\n",
    "print('\\nConfusion Matrix: Testing Data\\n', confusion_matrix(y_test, test_predicted_knn))\n",
    "\n",
    "print('\\nROC AUC Score: Testing Data\\n', roc_auc_score(y_test, test_predicted_knn))\n",
    "\n",
    "print('\\nAccuracy: Testing Data\\n', accuracy_score(y_test, test_predicted_knn))\n",
    "\n",
    "print('\\nClassification Report: Testing Data\\n', classification_report(y_test, test_predicted_knn, digits = 6))"
   ]
  },
  {
   "cell_type": "markdown",
   "metadata": {},
   "source": [
    "#### Train"
   ]
  },
  {
   "cell_type": "code",
   "execution_count": 48,
   "metadata": {
    "ExecuteTime": {
     "end_time": "2021-02-12T22:20:20.123757Z",
     "start_time": "2021-02-12T22:14:38.784339Z"
    }
   },
   "outputs": [],
   "source": [
    "train_predicted_knn = knn.predict(X_train_scaled)"
   ]
  },
  {
   "cell_type": "code",
   "execution_count": 49,
   "metadata": {
    "ExecuteTime": {
     "end_time": "2021-02-12T22:20:22.442531Z",
     "start_time": "2021-02-12T22:20:20.125751Z"
    }
   },
   "outputs": [
    {
     "name": "stdout",
     "output_type": "stream",
     "text": [
      "\u001b[1mK-Nearest Neighbors\u001b[0;0m\n",
      "\n",
      "Confusion Matrix: Training Data\n",
      " [[200325  27725]\n",
      " [ 16793 211044]]\n",
      "\n",
      "ROC AUC Score: Training Data\n",
      " 0.902359790789131\n",
      "\n",
      "Accuracy: Training Data\n",
      " 0.902348608317412\n",
      "\n",
      "Classification Report: Training Data\n",
      "               precision    recall  f1-score   support\n",
      "\n",
      "           0   0.922655  0.878426  0.899997    228050\n",
      "           1   0.883884  0.926294  0.904592    227837\n",
      "\n",
      "    accuracy                       0.902349    455887\n",
      "   macro avg   0.903269  0.902360  0.902295    455887\n",
      "weighted avg   0.903278  0.902349  0.902294    455887\n",
      "\n"
     ]
    }
   ],
   "source": [
    "print('\\033[1mK-Nearest Neighbors\\033[0;0m')\n",
    "\n",
    "print('\\nConfusion Matrix: Training Data\\n', confusion_matrix(y_train, train_predicted_knn))\n",
    "\n",
    "print('\\nROC AUC Score: Training Data\\n', roc_auc_score(y_train, train_predicted_knn))\n",
    "\n",
    "print('\\nAccuracy: Training Data\\n', accuracy_score(y_train, train_predicted_knn))\n",
    "\n",
    "print('\\nClassification Report: Training Data\\n', classification_report(y_train, train_predicted_knn, digits = 6))"
   ]
  },
  {
   "cell_type": "markdown",
   "metadata": {},
   "source": [
    "## Evaluation Summary"
   ]
  },
  {
   "cell_type": "code",
   "execution_count": 50,
   "metadata": {
    "ExecuteTime": {
     "end_time": "2021-02-12T22:20:22.576582Z",
     "start_time": "2021-02-12T22:20:22.444525Z"
    }
   },
   "outputs": [
    {
     "data": {
      "text/html": [
       "<div>\n",
       "<style scoped>\n",
       "    .dataframe tbody tr th:only-of-type {\n",
       "        vertical-align: middle;\n",
       "    }\n",
       "\n",
       "    .dataframe tbody tr th {\n",
       "        vertical-align: top;\n",
       "    }\n",
       "\n",
       "    .dataframe thead th {\n",
       "        text-align: right;\n",
       "    }\n",
       "</style>\n",
       "<table border=\"1\" class=\"dataframe\">\n",
       "  <thead>\n",
       "    <tr style=\"text-align: right;\">\n",
       "      <th></th>\n",
       "      <th>Model</th>\n",
       "      <th>roc_auc_score TRAIN</th>\n",
       "      <th>roc_auc_score TEST</th>\n",
       "      <th>f1 TRAIN</th>\n",
       "      <th>f1 TEST</th>\n",
       "      <th>precision TRAIN</th>\n",
       "      <th>precision TEST</th>\n",
       "      <th>recall TRAIN</th>\n",
       "      <th>recall TEST</th>\n",
       "      <th>accuracy TRAIN</th>\n",
       "      <th>accuracy TEST</th>\n",
       "    </tr>\n",
       "  </thead>\n",
       "  <tbody>\n",
       "  </tbody>\n",
       "</table>\n",
       "</div>"
      ],
      "text/plain": [
       "Empty DataFrame\n",
       "Columns: [Model, roc_auc_score TRAIN, roc_auc_score TEST, f1 TRAIN, f1 TEST, precision TRAIN, precision TEST, recall TRAIN, recall TEST, accuracy TRAIN, accuracy TEST]\n",
       "Index: []"
      ]
     },
     "execution_count": 50,
     "metadata": {},
     "output_type": "execute_result"
    }
   ],
   "source": [
    "model = [\n",
    "    'Random Forest',\n",
    "    'Decision Tree',\n",
    "    'XGBoost',\n",
    "    'Logistic Regression',\n",
    "    'K-Nearest Neighbors'\n",
    "]\n",
    "\n",
    "model_train = [\n",
    "    train_predicted_rf,\n",
    "    train_predicted_dt,\n",
    "    train_predicted_xgb,\n",
    "    train_predicted_logreg,\n",
    "    train_predicted_knn\n",
    "]\n",
    "\n",
    "model_test = [\n",
    "    test_predicted_rf,\n",
    "    test_predicted_dt,\n",
    "    test_predicted_xgb,\n",
    "    test_predicted_logreg,\n",
    "    test_predicted_knn\n",
    "]\n",
    "\n",
    "models_evaluation = pd.DataFrame(columns = [\n",
    "    'Model',\n",
    "    'roc_auc_score TRAIN',\n",
    "    'roc_auc_score TEST',\n",
    "    'f1 TRAIN',\n",
    "    'f1 TEST',\n",
    "    'precision TRAIN',\n",
    "    'precision TEST',\n",
    "    'recall TRAIN',\n",
    "    'recall TEST',\n",
    "    'accuracy TRAIN',\n",
    "    'accuracy TEST'\n",
    "])\n",
    "models_evaluation"
   ]
  },
  {
   "cell_type": "code",
   "execution_count": 51,
   "metadata": {
    "ExecuteTime": {
     "end_time": "2021-02-12T22:20:29.534975Z",
     "start_time": "2021-02-12T22:20:22.576582Z"
    }
   },
   "outputs": [
    {
     "data": {
      "text/html": [
       "<div>\n",
       "<style scoped>\n",
       "    .dataframe tbody tr th:only-of-type {\n",
       "        vertical-align: middle;\n",
       "    }\n",
       "\n",
       "    .dataframe tbody tr th {\n",
       "        vertical-align: top;\n",
       "    }\n",
       "\n",
       "    .dataframe thead th {\n",
       "        text-align: right;\n",
       "    }\n",
       "</style>\n",
       "<table border=\"1\" class=\"dataframe\">\n",
       "  <thead>\n",
       "    <tr style=\"text-align: right;\">\n",
       "      <th></th>\n",
       "      <th>Model</th>\n",
       "      <th>roc_auc_score TRAIN</th>\n",
       "      <th>roc_auc_score TEST</th>\n",
       "      <th>f1 TRAIN</th>\n",
       "      <th>f1 TEST</th>\n",
       "      <th>precision TRAIN</th>\n",
       "      <th>precision TEST</th>\n",
       "      <th>recall TRAIN</th>\n",
       "      <th>recall TEST</th>\n",
       "      <th>accuracy TRAIN</th>\n",
       "      <th>accuracy TEST</th>\n",
       "    </tr>\n",
       "  </thead>\n",
       "  <tbody>\n",
       "    <tr>\n",
       "      <th>0</th>\n",
       "      <td>Random Forest</td>\n",
       "      <td>0.999934</td>\n",
       "      <td>0.912747</td>\n",
       "      <td>0.999934</td>\n",
       "      <td>0.910982</td>\n",
       "      <td>0.999960</td>\n",
       "      <td>0.930599</td>\n",
       "      <td>0.999908</td>\n",
       "      <td>0.892175</td>\n",
       "      <td>0.999934</td>\n",
       "      <td>0.912724</td>\n",
       "    </tr>\n",
       "    <tr>\n",
       "      <th>1</th>\n",
       "      <td>Decision Tree</td>\n",
       "      <td>0.999941</td>\n",
       "      <td>0.894048</td>\n",
       "      <td>0.999941</td>\n",
       "      <td>0.894609</td>\n",
       "      <td>1.000000</td>\n",
       "      <td>0.890899</td>\n",
       "      <td>0.999881</td>\n",
       "      <td>0.898351</td>\n",
       "      <td>0.999941</td>\n",
       "      <td>0.894053</td>\n",
       "    </tr>\n",
       "    <tr>\n",
       "      <th>2</th>\n",
       "      <td>XGBoost</td>\n",
       "      <td>0.929242</td>\n",
       "      <td>0.927636</td>\n",
       "      <td>0.924772</td>\n",
       "      <td>0.923167</td>\n",
       "      <td>0.987046</td>\n",
       "      <td>0.984163</td>\n",
       "      <td>0.869889</td>\n",
       "      <td>0.869290</td>\n",
       "      <td>0.929270</td>\n",
       "      <td>0.927572</td>\n",
       "    </tr>\n",
       "    <tr>\n",
       "      <th>3</th>\n",
       "      <td>Logistic Regression</td>\n",
       "      <td>0.821407</td>\n",
       "      <td>0.821952</td>\n",
       "      <td>0.835045</td>\n",
       "      <td>0.835506</td>\n",
       "      <td>0.775346</td>\n",
       "      <td>0.777459</td>\n",
       "      <td>0.904704</td>\n",
       "      <td>0.902921</td>\n",
       "      <td>0.821368</td>\n",
       "      <td>0.822040</td>\n",
       "    </tr>\n",
       "    <tr>\n",
       "      <th>4</th>\n",
       "      <td>K-Nearest Neighbors</td>\n",
       "      <td>0.902360</td>\n",
       "      <td>0.853357</td>\n",
       "      <td>0.904592</td>\n",
       "      <td>0.857097</td>\n",
       "      <td>0.883884</td>\n",
       "      <td>0.836793</td>\n",
       "      <td>0.926294</td>\n",
       "      <td>0.878411</td>\n",
       "      <td>0.902349</td>\n",
       "      <td>0.853384</td>\n",
       "    </tr>\n",
       "  </tbody>\n",
       "</table>\n",
       "</div>"
      ],
      "text/plain": [
       "                 Model  roc_auc_score TRAIN  roc_auc_score TEST  f1 TRAIN  \\\n",
       "0        Random Forest             0.999934            0.912747  0.999934   \n",
       "1        Decision Tree             0.999941            0.894048  0.999941   \n",
       "2              XGBoost             0.929242            0.927636  0.924772   \n",
       "3  Logistic Regression             0.821407            0.821952  0.835045   \n",
       "4  K-Nearest Neighbors             0.902360            0.853357  0.904592   \n",
       "\n",
       "    f1 TEST  precision TRAIN  precision TEST  recall TRAIN  recall TEST  \\\n",
       "0  0.910982         0.999960        0.930599      0.999908     0.892175   \n",
       "1  0.894609         1.000000        0.890899      0.999881     0.898351   \n",
       "2  0.923167         0.987046        0.984163      0.869889     0.869290   \n",
       "3  0.835506         0.775346        0.777459      0.904704     0.902921   \n",
       "4  0.857097         0.883884        0.836793      0.926294     0.878411   \n",
       "\n",
       "   accuracy TRAIN  accuracy TEST  \n",
       "0        0.999934       0.912724  \n",
       "1        0.999941       0.894053  \n",
       "2        0.929270       0.927572  \n",
       "3        0.821368       0.822040  \n",
       "4        0.902349       0.853384  "
      ]
     },
     "execution_count": 51,
     "metadata": {},
     "output_type": "execute_result"
    }
   ],
   "source": [
    "for i in range(len(model)):\n",
    "    models_evaluation = models_evaluation.append({\n",
    "        'Model' : model[i],\n",
    "        'roc_auc_score TRAIN' : roc_auc_score(y_train, model_train[i]),\n",
    "        'roc_auc_score TEST' : roc_auc_score(y_test, model_test[i]),\n",
    "        'f1 TRAIN' : f1_score(y_train, model_train[i]),\n",
    "        'f1 TEST' : f1_score(y_test, model_test[i]),\n",
    "        'precision TRAIN' : precision_score(y_train, model_train[i]),\n",
    "        'precision TEST' : precision_score(y_test, model_test[i]),\n",
    "        'recall TRAIN' : recall_score(y_train, model_train[i]),\n",
    "        'recall TEST' : recall_score(y_test, model_test[i]),\n",
    "        'accuracy TRAIN' : accuracy_score(y_train, model_train[i]),\n",
    "        'accuracy TEST' : accuracy_score(y_test, model_test[i])\n",
    "    }, ignore_index = True)\n",
    "\n",
    "models_evaluation"
   ]
  },
  {
   "cell_type": "code",
   "execution_count": 52,
   "metadata": {
    "ExecuteTime": {
     "end_time": "2021-02-12T22:20:30.307906Z",
     "start_time": "2021-02-12T22:20:29.536968Z"
    }
   },
   "outputs": [],
   "source": [
    "models_evaluation.to_excel('output/model_performance-TARGET ENCODING.xlsx', index = False)"
   ]
  },
  {
   "cell_type": "markdown",
   "metadata": {},
   "source": [
    "## Model Performance Visualization"
   ]
  },
  {
   "cell_type": "code",
   "execution_count": 53,
   "metadata": {
    "ExecuteTime": {
     "end_time": "2021-02-12T22:20:32.973503Z",
     "start_time": "2021-02-12T22:20:30.309900Z"
    },
    "scrolled": false
   },
   "outputs": [
    {
     "data": {
      "image/png": "[encoded data removed]",
      "text/plain": [
       "<Figure size 1080x720 with 1 Axes>"
      ]
     },
     "metadata": {},
     "output_type": "display_data"
    }
   ],
   "source": [
    "plt.figure(figsize = (15, 10))\n",
    "\n",
    "legend_elements = [\n",
    "    Line2D([0], [0], color = '#df2f2f', lw = 4, label = 'Model Performance on Test Dataset')\n",
    "]\n",
    "\n",
    "ax = sns.lineplot(\n",
    "    x = models_evaluation['Model'],\n",
    "    y = models_evaluation['roc_auc_score TEST'],\n",
    "    color = '#df2f2f',\n",
    "    label = 'TEST'\n",
    ")\n",
    "\n",
    "ax = sns.scatterplot(\n",
    "    x = models_evaluation['Model'],\n",
    "    y = models_evaluation['roc_auc_score TEST'],\n",
    "    color = '#df2f2f',\n",
    "    s = 150\n",
    ")\n",
    "\n",
    "ax.spines['right'].set_visible(False)\n",
    "ax.spines['top'].set_visible(False)\n",
    "ax.spines['left'].set_visible(False)\n",
    "\n",
    "ax.legend(handles = legend_elements, fontsize = 16)\n",
    "\n",
    "ax.annotate(\n",
    "    text = 'Best Model', xy = (1.8, 0.927), xycoords = 'data', fontsize = 20, xytext = (-150, 0),\n",
    "    textcoords = 'offset points', horizontalalignment = 'center', verticalalignment = 'center',\n",
    "    arrowprops = dict(color = 'black')\n",
    ")\n",
    "\n",
    "ax.plot('XGBoost', 0.925, 'o', ms = 60, mec = 'black', mfc = 'none', mew = 2)\n",
    "\n",
    "plt.ylabel('ROC-AUC Score', fontsize = 16)\n",
    "plt.xlabel('Model', fontsize = 16)\n",
    "plt.yticks(fontsize = 20)\n",
    "plt.xticks(fontsize = 20)\n",
    "\n",
    "plt.savefig('fig/stage_3/test performance.png', bbox_inches = 'tight', dpi = 300, transparent = True)"
   ]
  },
  {
   "cell_type": "code",
   "execution_count": 54,
   "metadata": {
    "ExecuteTime": {
     "end_time": "2021-02-12T22:20:34.927771Z",
     "start_time": "2021-02-12T22:20:32.975796Z"
    }
   },
   "outputs": [
    {
     "data": {
      "image/png": "[encoded data removed]",
      "text/plain": [
       "<Figure size 1296x720 with 1 Axes>"
      ]
     },
     "metadata": {},
     "output_type": "display_data"
    }
   ],
   "source": [
    "plt.figure(figsize = (18, 10))\n",
    "\n",
    "ax = sns.barplot(\n",
    "    x = models_evaluation['Model'],\n",
    "    y = models_evaluation['roc_auc_score TRAIN'],\n",
    "    color = '#c2c2c2',\n",
    "    label = 'TRAIN'\n",
    ")\n",
    "\n",
    "ax = sns.lineplot(\n",
    "    x = models_evaluation['Model'],\n",
    "    y = models_evaluation['roc_auc_score TEST'],\n",
    "    color = '#df2f2f',\n",
    "    label = 'TEST',\n",
    "    marker = 'o',\n",
    "    markersize = 15\n",
    ")\n",
    "\n",
    "ax.spines['right'].set_visible(False)\n",
    "ax.spines['top'].set_visible(False)\n",
    "ax.spines['left'].set_visible(False)\n",
    "\n",
    "L = ax.legend(loc = 0, fontsize = 20)\n",
    "\n",
    "ax.annotate(\n",
    "    text = 'Best Model', xy = (2.04, 0.95), xycoords = 'data', fontsize = 20, xytext = (100, 60),\n",
    "    textcoords = 'offset points', horizontalalignment = 'center', verticalalignment = 'center',\n",
    "    arrowprops = dict(color = 'black')\n",
    ")\n",
    "\n",
    "plt.ylabel('ROC-AUC Score', fontsize = 16)\n",
    "plt.xlabel('Model', fontsize = 16)\n",
    "plt.yticks(fontsize = 20)\n",
    "plt.xticks(fontsize = 20)\n",
    "\n",
    "plt.savefig('fig/stage_3/roc auc performance-bar-line.png', bbox_inches = 'tight', dpi = 300, transparent = True)"
   ]
  },
  {
   "cell_type": "code",
   "execution_count": 55,
   "metadata": {
    "ExecuteTime": {
     "end_time": "2021-02-12T22:20:36.731780Z",
     "start_time": "2021-02-12T22:20:34.927771Z"
    },
    "scrolled": false
   },
   "outputs": [
    {
     "data": {
      "image/png": "[encoded data removed]",
      "text/plain": [
       "<Figure size 1080x720 with 1 Axes>"
      ]
     },
     "metadata": {},
     "output_type": "display_data"
    }
   ],
   "source": [
    "plt.figure(figsize = (15, 10))\n",
    "\n",
    "ax = sns.lineplot(\n",
    "    x = models_evaluation['Model'],\n",
    "    y = models_evaluation['roc_auc_score TRAIN'],\n",
    "    color = '#c2c2c2',\n",
    "    label = 'TRAIN',\n",
    "    marker = 'o',\n",
    "    markersize = 15\n",
    ")\n",
    "\n",
    "ax = sns.lineplot(\n",
    "    x = models_evaluation['Model'],\n",
    "    y = models_evaluation['roc_auc_score TEST'],\n",
    "    color = '#df2f2f',\n",
    "    label = 'TEST',\n",
    "    marker = 'o',\n",
    "    markersize = 15\n",
    ")\n",
    "\n",
    "ax.spines['right'].set_visible(False)\n",
    "ax.spines['top'].set_visible(False)\n",
    "ax.spines['left'].set_visible(False)\n",
    "\n",
    "plt.fill_between(models_evaluation['Model'], models_evaluation['roc_auc_score TRAIN'], models_evaluation['roc_auc_score TEST'], color = '#df2f2f', alpha = 0.6)\n",
    "\n",
    "L = ax.legend(loc = 0, fontsize = 20)\n",
    "\n",
    "ax.annotate(\n",
    "    text = 'Best Model', xy = (2.2, 0.937), xycoords = 'data', fontsize = 20, xytext = (100, 60),\n",
    "    textcoords = 'offset points', horizontalalignment = 'center', verticalalignment = 'center',\n",
    "    arrowprops = dict(color = 'black')\n",
    ")\n",
    "\n",
    "ax.plot('XGBoost', 0.925, 'o', ms = 60, mec = 'black', mfc = 'none', mew = 2)\n",
    "\n",
    "plt.ylabel('ROC-AUC Score', fontsize = 16)\n",
    "plt.xlabel('Model', fontsize = 16)\n",
    "plt.yticks(fontsize = 20)\n",
    "plt.xticks(fontsize = 20)\n",
    "\n",
    "plt.savefig('fig/stage_3/roc auc performance-area.png', bbox_inches = 'tight', dpi = 300, transparent = True)"
   ]
  },
  {
   "cell_type": "code",
   "execution_count": 56,
   "metadata": {
    "ExecuteTime": {
     "end_time": "2021-02-12T22:20:38.990968Z",
     "start_time": "2021-02-12T22:20:36.734773Z"
    }
   },
   "outputs": [
    {
     "data": {
      "image/png": "[encoded data removed]",
      "text/plain": [
       "<Figure size 1080x720 with 1 Axes>"
      ]
     },
     "metadata": {},
     "output_type": "display_data"
    }
   ],
   "source": [
    "plt.figure(figsize = (15, 10))\n",
    "\n",
    "ax = sns.lineplot(\n",
    "    x = models_evaluation['Model'],\n",
    "    y = models_evaluation['roc_auc_score TRAIN'],\n",
    "    color = '#c2c2c2',\n",
    "    label = 'TRAIN',\n",
    "    marker = 'o',\n",
    "    markersize = 15\n",
    ")\n",
    "\n",
    "ax = sns.lineplot(\n",
    "    x = models_evaluation['Model'],\n",
    "    y = models_evaluation['roc_auc_score TEST'],\n",
    "    color = '#df2f2f',\n",
    "    label = 'TEST',\n",
    "    marker = 'o',\n",
    "    markersize = 15\n",
    ")\n",
    "\n",
    "ax.spines['right'].set_visible(False)\n",
    "ax.spines['top'].set_visible(False)\n",
    "ax.spines['left'].set_visible(False)\n",
    "\n",
    "L = ax.legend(loc = 0, fontsize = 20)\n",
    "\n",
    "ax.annotate(\n",
    "    text = 'Best Model', xy = (2.2, 0.937), xycoords = 'data', fontsize = 20, xytext = (100, 60),\n",
    "    textcoords = 'offset points', horizontalalignment = 'center', verticalalignment = 'center',\n",
    "    arrowprops = dict(color = 'black')\n",
    ")\n",
    "\n",
    "ax.plot('XGBoost', 0.925, 'o', ms = 60, mec = 'black', mfc = 'none', mew = 2)\n",
    "\n",
    "plt.ylabel('ROC-AUC Score', fontsize = 16)\n",
    "plt.xlabel('Model', fontsize = 16)\n",
    "plt.yticks(fontsize = 20)\n",
    "plt.xticks(fontsize = 20)\n",
    "\n",
    "plt.savefig('fig/stage_3/roc auc performance.png', bbox_inches = 'tight', dpi = 300, transparent = True)"
   ]
  },
  {
   "cell_type": "markdown",
   "metadata": {},
   "source": [
    "## Chosen Model: XGBoost"
   ]
  },
  {
   "cell_type": "markdown",
   "metadata": {},
   "source": [
    "**XGBoost** the performance of xgboost is the highest in terms of auc-roc score (~0.92), this model also performed well on the test dataset and **not overfitted** neither underfitted."
   ]
  },
  {
   "cell_type": "markdown",
   "metadata": {},
   "source": [
    "### Hyperparameter Tuning"
   ]
  },
  {
   "cell_type": "markdown",
   "metadata": {},
   "source": [
    "https://www.analyticsvidhya.com/blog/2016/03/complete-guide-parameter-tuning-xgboost-with-codes-python/"
   ]
  },
  {
   "cell_type": "code",
   "execution_count": 57,
   "metadata": {
    "ExecuteTime": {
     "end_time": "2021-02-12T22:20:39.006588Z",
     "start_time": "2021-02-12T22:20:38.990968Z"
    }
   },
   "outputs": [],
   "source": [
    "hyperparameters = {\n",
    "    'learning_rate' : [0.05, 0.10, 0.15, 0.20, 0.25, 0.30],\n",
    "    'max_depth' : [3, 4, 5, 6, 8, 10, 12, 15],\n",
    "    'min_child_weight' : [1, 3, 5, 7],\n",
    "    'gamma' : [0.0, 0.1, 0.2 , 0.3, 0.4 ],\n",
    "    'colsample_bytree' : [0.3, 0.4, 0.5 , 0.7],\n",
    "    'eta' : [.3, .2, .1, .05, .01, .005]\n",
    "}"
   ]
  },
  {
   "cell_type": "code",
   "execution_count": 58,
   "metadata": {
    "ExecuteTime": {
     "end_time": "2021-02-12T22:20:39.022211Z",
     "start_time": "2021-02-12T22:20:39.006588Z"
    }
   },
   "outputs": [],
   "source": [
    "xgb = XGBClassifier(random_state = 42, eval_metric = 'auc', use_label_encoder = False)\n",
    "\n",
    "clf = RandomizedSearchCV(xgb, hyperparameters, cv = 10, scoring = 'roc_auc')"
   ]
  },
  {
   "cell_type": "markdown",
   "metadata": {},
   "source": [
    "#### Fit Training Data"
   ]
  },
  {
   "cell_type": "code",
   "execution_count": 59,
   "metadata": {
    "ExecuteTime": {
     "end_time": "2021-02-12T23:00:33.956494Z",
     "start_time": "2021-02-12T22:20:39.022211Z"
    }
   },
   "outputs": [],
   "source": [
    "best_model = clf.fit(X_train_scaled, y_train)"
   ]
  },
  {
   "cell_type": "markdown",
   "metadata": {},
   "source": [
    "#### Best Parameters"
   ]
  },
  {
   "cell_type": "code",
   "execution_count": 60,
   "metadata": {
    "ExecuteTime": {
     "end_time": "2021-02-12T23:00:33.988037Z",
     "start_time": "2021-02-12T23:00:33.956791Z"
    }
   },
   "outputs": [
    {
     "name": "stdout",
     "output_type": "stream",
     "text": [
      "Best learning_rate: 0.15\n",
      "\n",
      "Best max_depth: 12\n",
      "\n",
      "Best min_child_weight: 3\n",
      "\n",
      "Best gamma: 0.3\n",
      "\n",
      "Best colsample_bytree: 0.3\n",
      "\n",
      "Best eta: 0.01\n"
     ]
    }
   ],
   "source": [
    "print('Best learning_rate:', best_model.best_estimator_.get_params()['learning_rate'])\n",
    "print('\\nBest max_depth:', best_model.best_estimator_.get_params()['max_depth'])\n",
    "print('\\nBest min_child_weight:', best_model.best_estimator_.get_params()['min_child_weight'])\n",
    "print('\\nBest gamma:', best_model.best_estimator_.get_params()['gamma'])\n",
    "print('\\nBest colsample_bytree:', best_model.best_estimator_.get_params()['colsample_bytree'])\n",
    "print('\\nBest eta:', best_model.best_estimator_.get_params()['eta'])"
   ]
  },
  {
   "cell_type": "code",
   "execution_count": 61,
   "metadata": {
    "ExecuteTime": {
     "end_time": "2021-02-12T23:00:34.003657Z",
     "start_time": "2021-02-12T23:00:33.988037Z"
    }
   },
   "outputs": [],
   "source": [
    "# xgb_best = XGBClassifier(random_state = 42, eval_metric = 'auc', use_label_encoder = False, learning_rate = 0.1, max_depth = 12, min_child_weight = 1, gamma = 0.4, colsample_bytree = 0.4, eta = 0.01)"
   ]
  },
  {
   "cell_type": "code",
   "execution_count": 62,
   "metadata": {
    "ExecuteTime": {
     "end_time": "2021-02-12T23:00:34.019281Z",
     "start_time": "2021-02-12T23:00:34.003657Z"
    }
   },
   "outputs": [],
   "source": [
    "# xgb_best = xgb_best.fit(X_train_scaled, y_train)"
   ]
  },
  {
   "cell_type": "markdown",
   "metadata": {},
   "source": [
    "#### Predict Testing Data"
   ]
  },
  {
   "cell_type": "code",
   "execution_count": 63,
   "metadata": {
    "ExecuteTime": {
     "end_time": "2021-02-12T23:00:34.395884Z",
     "start_time": "2021-02-12T23:00:34.019281Z"
    }
   },
   "outputs": [],
   "source": [
    "test_predicted_best_model = best_model.predict(X_test_scaled)"
   ]
  },
  {
   "cell_type": "code",
   "execution_count": 64,
   "metadata": {
    "ExecuteTime": {
     "end_time": "2021-02-12T23:00:35.020419Z",
     "start_time": "2021-02-12T23:00:34.398876Z"
    }
   },
   "outputs": [
    {
     "name": "stdout",
     "output_type": "stream",
     "text": [
      "\u001b[1mBest Model:\u001b[0;0m\n",
      "\u001b[1mXGBoost\u001b[0;0m\n",
      "\n",
      "Confusion Matrix: Testing Data\n",
      " [[96632   952]\n",
      " [12838 84959]]\n",
      "\n",
      "ROC AUC Score: Testing Data\n",
      " 0.9294861909690451\n",
      "\n",
      "Accuracy: Testing Data\n",
      " 0.9294199538337914\n",
      "\n",
      "Classification Report: Testing Data\n",
      "               precision    recall  f1-score   support\n",
      "\n",
      "           0   0.882726  0.990244  0.933399     97584\n",
      "           1   0.988919  0.868728  0.924935     97797\n",
      "\n",
      "    accuracy                       0.929420    195381\n",
      "   macro avg   0.935822  0.929486  0.929167    195381\n",
      "weighted avg   0.935880  0.929420  0.929163    195381\n",
      "\n"
     ]
    }
   ],
   "source": [
    "print('\\033[1mBest Model:\\033[0;0m')\n",
    "print('\\033[1mXGBoost\\033[0;0m')\n",
    "\n",
    "print('\\nConfusion Matrix: Testing Data\\n', confusion_matrix(y_test, test_predicted_best_model))\n",
    "\n",
    "print('\\nROC AUC Score: Testing Data\\n', roc_auc_score(y_test, test_predicted_best_model))\n",
    "\n",
    "print('\\nAccuracy: Testing Data\\n', accuracy_score(y_test, test_predicted_best_model))\n",
    "\n",
    "print('\\nClassification Report: Testing Data\\n', classification_report(y_test, test_predicted_best_model, digits = 6))"
   ]
  },
  {
   "cell_type": "code",
   "execution_count": 65,
   "metadata": {
    "ExecuteTime": {
     "end_time": "2021-02-12T23:00:35.875133Z",
     "start_time": "2021-02-12T23:00:35.022415Z"
    }
   },
   "outputs": [],
   "source": [
    "train_predicted_best_model = best_model.predict(X_train_scaled)"
   ]
  },
  {
   "cell_type": "code",
   "execution_count": 66,
   "metadata": {
    "ExecuteTime": {
     "end_time": "2021-02-12T23:00:37.289557Z",
     "start_time": "2021-02-12T23:00:35.878125Z"
    },
    "scrolled": false
   },
   "outputs": [
    {
     "name": "stdout",
     "output_type": "stream",
     "text": [
      "\u001b[1mBest Model:\u001b[0;0m\n",
      "\u001b[1mXGBoost\u001b[0;0m\n",
      "\n",
      "Confusion Matrix: Training Data\n",
      " [[226768   1282]\n",
      " [ 29018 198819]]\n",
      "\n",
      "ROC AUC Score: Training Data\n",
      " 0.9335077212992359\n",
      "\n",
      "Accuracy: Training Data\n",
      " 0.9335361613733227\n",
      "\n",
      "Classification Report: Training Data\n",
      "               precision    recall  f1-score   support\n",
      "\n",
      "           0   0.886554  0.994378  0.937375    228050\n",
      "           1   0.993593  0.872637  0.929195    227837\n",
      "\n",
      "    accuracy                       0.933536    455887\n",
      "   macro avg   0.940073  0.933508  0.933285    455887\n",
      "weighted avg   0.940048  0.933536  0.933287    455887\n",
      "\n"
     ]
    }
   ],
   "source": [
    "print('\\033[1mBest Model:\\033[0;0m')\n",
    "print('\\033[1mXGBoost\\033[0;0m')\n",
    "\n",
    "print('\\nConfusion Matrix: Training Data\\n', confusion_matrix(y_train, train_predicted_best_model))\n",
    "\n",
    "print('\\nROC AUC Score: Training Data\\n', roc_auc_score(y_train, train_predicted_best_model))\n",
    "\n",
    "print('\\nAccuracy: Training Data\\n', accuracy_score(y_train, train_predicted_best_model))\n",
    "\n",
    "print('\\nClassification Report: Training Data\\n', classification_report(y_train, train_predicted_best_model, digits = 6))"
   ]
  },
  {
   "cell_type": "code",
   "execution_count": 67,
   "metadata": {
    "ExecuteTime": {
     "end_time": "2021-02-12T23:00:37.312442Z",
     "start_time": "2021-02-12T23:00:37.291550Z"
    }
   },
   "outputs": [
    {
     "data": {
      "text/plain": [
       "(array([0, 1]), array([255786, 200101], dtype=int64))"
      ]
     },
     "execution_count": 67,
     "metadata": {},
     "output_type": "execute_result"
    }
   ],
   "source": [
    "np.unique(train_predicted_best_model, return_counts=True)"
   ]
  },
  {
   "cell_type": "code",
   "execution_count": 68,
   "metadata": {
    "ExecuteTime": {
     "end_time": "2021-02-12T23:00:37.337189Z",
     "start_time": "2021-02-12T23:00:37.322416Z"
    }
   },
   "outputs": [
    {
     "data": {
      "text/plain": [
       "(array([0, 1], dtype=int64), array([228050, 227837], dtype=int64))"
      ]
     },
     "execution_count": 68,
     "metadata": {},
     "output_type": "execute_result"
    }
   ],
   "source": [
    "np.unique(y_train, return_counts=True)"
   ]
  },
  {
   "cell_type": "code",
   "execution_count": 69,
   "metadata": {
    "ExecuteTime": {
     "end_time": "2021-02-12T23:00:37.350154Z",
     "start_time": "2021-02-12T23:00:37.340179Z"
    }
   },
   "outputs": [
    {
     "data": {
      "text/plain": [
       "(array([0, 1]), array([109470,  85911], dtype=int64))"
      ]
     },
     "execution_count": 69,
     "metadata": {},
     "output_type": "execute_result"
    }
   ],
   "source": [
    "np.unique(test_predicted_best_model, return_counts=True)"
   ]
  },
  {
   "cell_type": "code",
   "execution_count": 70,
   "metadata": {
    "ExecuteTime": {
     "end_time": "2021-02-12T23:00:37.363117Z",
     "start_time": "2021-02-12T23:00:37.352147Z"
    }
   },
   "outputs": [
    {
     "data": {
      "text/plain": [
       "(array([0, 1], dtype=int64), array([97584, 97797], dtype=int64))"
      ]
     },
     "execution_count": 70,
     "metadata": {},
     "output_type": "execute_result"
    }
   ],
   "source": [
    "np.unique(y_test, return_counts=True)"
   ]
  }
 ],
 "metadata": {
  "kernelspec": {
   "display_name": "Python 3",
   "language": "python",
   "name": "python3"
  },
  "language_info": {
   "codemirror_mode": {
    "name": "ipython",
    "version": 3
   },
   "file_extension": ".py",
   "mimetype": "text/x-python",
   "name": "python",
   "nbconvert_exporter": "python",
   "pygments_lexer": "ipython3",
   "version": "3.8.5"
  },
  "nbTranslate": {
   "displayLangs": [
    "en"
   ],
   "hotkey": "alt-t",
   "langInMainMenu": true,
   "sourceLang": "en",
   "targetLang": "fr",
   "useGoogleTranslate": true
  },
  "toc": {
   "base_numbering": 1,
   "nav_menu": {},
   "number_sections": true,
   "sideBar": true,
   "skip_h1_title": false,
   "title_cell": "Table of Contents",
   "title_sidebar": "Contents",
   "toc_cell": true,
   "toc_position": {
    "height": "calc(100% - 180px)",
    "left": "10px",
    "top": "150px",
    "width": "307.2px"
   },
   "toc_section_display": true,
   "toc_window_display": true
  }
 },
 "nbformat": 4,
 "nbformat_minor": 4
}
